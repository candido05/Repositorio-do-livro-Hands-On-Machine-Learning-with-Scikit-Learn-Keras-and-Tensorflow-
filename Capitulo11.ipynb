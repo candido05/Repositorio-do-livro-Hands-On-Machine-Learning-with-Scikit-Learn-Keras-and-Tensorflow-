{
  "nbformat": 4,
  "nbformat_minor": 0,
  "metadata": {
    "colab": {
      "provenance": [],
      "gpuType": "T4",
      "authorship_tag": "ABX9TyNauyA+tGAbj4AveZHjeJjV",
      "include_colab_link": true
    },
    "kernelspec": {
      "name": "python3",
      "display_name": "Python 3"
    },
    "language_info": {
      "name": "python"
    },
    "accelerator": "GPU"
  },
  "cells": [
    {
      "cell_type": "markdown",
      "metadata": {
        "id": "view-in-github",
        "colab_type": "text"
      },
      "source": [
        "<a href=\"https://colab.research.google.com/github/candido05/Repositorio-do-livro-Hands-On-Machine-Learning-with-Scikit-Learn-Keras-and-Tensorflow-/blob/main/Capitulo11.ipynb\" target=\"_parent\"><img src=\"https://colab.research.google.com/assets/colab-badge.svg\" alt=\"Open In Colab\"/></a>"
      ]
    },
    {
      "cell_type": "markdown",
      "source": [
        "# Capítulo 11 – Treinando Redes Neurais Profundas"
      ],
      "metadata": {
        "id": "AENoLKHXV55J"
      }
    },
    {
      "cell_type": "code",
      "source": [
        "import tensorflow as tf\n",
        "import numpy as np"
      ],
      "metadata": {
        "id": "ZXrXzPoCViRV"
      },
      "execution_count": 1,
      "outputs": []
    },
    {
      "cell_type": "markdown",
      "source": [
        "### Problema de Gradiente de Fuga e Explosão de Gradiente\n",
        "\n",
        "* Inicialização de Xavier e He"
      ],
      "metadata": {
        "id": "DXczPapPVv3T"
      }
    },
    {
      "cell_type": "code",
      "execution_count": 2,
      "metadata": {
        "id": "IJ96X_6PVdRR"
      },
      "outputs": [],
      "source": [
        "dense = tf.keras.layers.Dense(50, activation='relu', kernel_initializer='he_normal')"
      ]
    },
    {
      "cell_type": "code",
      "source": [
        "he_avg_init = tf.keras.initializers.VarianceScaling(scale=2.0, mode='fan_avg',\n",
        "                                                    distribution='uniform')\n",
        "desne = tf.keras.layers.Dense(50, activation='sigmoid', kernel_initializer=he_avg_init)"
      ],
      "metadata": {
        "id": "cR_ldaIiWfHX"
      },
      "execution_count": 3,
      "outputs": []
    },
    {
      "cell_type": "markdown",
      "source": [
        "* Funções de ativação de não saturação"
      ],
      "metadata": {
        "id": "1OsbFsgOJTMv"
      }
    },
    {
      "cell_type": "code",
      "source": [
        "model = tf.keras.models.Sequential([\n",
        "\n",
        "    tf.keras.layers.Dense(10, kernel_initializer=\"he_normal\"),\n",
        "    tf.keras.layers.LeakyReLU(alpha=0.2)\n",
        "])"
      ],
      "metadata": {
        "id": "yXyrRhrwXD6A"
      },
      "execution_count": 4,
      "outputs": []
    },
    {
      "cell_type": "code",
      "source": [
        "# PReLU\n",
        "\n",
        "model = tf.keras.models.Sequential([\n",
        "\n",
        "    tf.keras.layers.Dense(10, kernel_initializer=\"he_normal\"),\n",
        "    tf.keras.layers.PReLU()\n",
        "])"
      ],
      "metadata": {
        "id": "SgBT-1t0Kf4n"
      },
      "execution_count": 5,
      "outputs": []
    },
    {
      "cell_type": "code",
      "source": [
        "# SELU\n",
        "\n",
        "layer = tf.keras.layers.Dense(10, activation=\"selu\",\n",
        "                              kernel_initializer=\"lecun_normal\")"
      ],
      "metadata": {
        "id": "Pb1W94J_KzIv"
      },
      "execution_count": 6,
      "outputs": []
    },
    {
      "cell_type": "markdown",
      "source": [
        "### Normalização em batch"
      ],
      "metadata": {
        "id": "l_jhulK2LUCC"
      }
    },
    {
      "cell_type": "code",
      "source": [
        "model = tf.keras.Sequential([\n",
        "    tf.keras.layers.Flatten(input_shape=[28, 28]),\n",
        "    tf.keras.layers.BatchNormalization(),\n",
        "    tf.keras.layers.Dense(300, activation=\"relu\",\n",
        "                          kernel_initializer=\"he_normal\"),\n",
        "    tf.keras.layers.BatchNormalization(),\n",
        "    tf.keras.layers.Dense(100, activation=\"relu\",\n",
        "                          kernel_initializer=\"he_normal\"),\n",
        "    tf.keras.layers.BatchNormalization(),\n",
        "    tf.keras.layers.Dense(10, activation=\"softmax\")\n",
        "])"
      ],
      "metadata": {
        "id": "u_GL2QdLLMk5"
      },
      "execution_count": 7,
      "outputs": []
    },
    {
      "cell_type": "code",
      "source": [
        "model.summary()"
      ],
      "metadata": {
        "colab": {
          "base_uri": "https://localhost:8080/"
        },
        "id": "1GpvCytUPfEM",
        "outputId": "56057f81-cfb9-40be-bbaf-01d316adcf22"
      },
      "execution_count": 8,
      "outputs": [
        {
          "output_type": "stream",
          "name": "stdout",
          "text": [
            "Model: \"sequential_2\"\n",
            "_________________________________________________________________\n",
            " Layer (type)                Output Shape              Param #   \n",
            "=================================================================\n",
            " flatten (Flatten)           (None, 784)               0         \n",
            "                                                                 \n",
            " batch_normalization (Batch  (None, 784)               3136      \n",
            " Normalization)                                                  \n",
            "                                                                 \n",
            " dense_5 (Dense)             (None, 300)               235500    \n",
            "                                                                 \n",
            " batch_normalization_1 (Bat  (None, 300)               1200      \n",
            " chNormalization)                                                \n",
            "                                                                 \n",
            " dense_6 (Dense)             (None, 100)               30100     \n",
            "                                                                 \n",
            " batch_normalization_2 (Bat  (None, 100)               400       \n",
            " chNormalization)                                                \n",
            "                                                                 \n",
            " dense_7 (Dense)             (None, 10)                1010      \n",
            "                                                                 \n",
            "=================================================================\n",
            "Total params: 271346 (1.04 MB)\n",
            "Trainable params: 268978 (1.03 MB)\n",
            "Non-trainable params: 2368 (9.25 KB)\n",
            "_________________________________________________________________\n"
          ]
        }
      ]
    },
    {
      "cell_type": "code",
      "source": [
        "[(var.name, var.trainable) for var in model.layers[1].variables]"
      ],
      "metadata": {
        "colab": {
          "base_uri": "https://localhost:8080/"
        },
        "id": "uCutNfZ2Pjav",
        "outputId": "15b6d694-40c8-456b-c60b-013959e68ec5"
      },
      "execution_count": 9,
      "outputs": [
        {
          "output_type": "execute_result",
          "data": {
            "text/plain": [
              "[('batch_normalization/gamma:0', True),\n",
              " ('batch_normalization/beta:0', True),\n",
              " ('batch_normalization/moving_mean:0', False),\n",
              " ('batch_normalization/moving_variance:0', False)]"
            ]
          },
          "metadata": {},
          "execution_count": 9
        }
      ]
    },
    {
      "cell_type": "code",
      "source": [
        "model.layers[1].updates"
      ],
      "metadata": {
        "colab": {
          "base_uri": "https://localhost:8080/"
        },
        "id": "mGOWZs3AP6C6",
        "outputId": "9b20c2a6-a6ef-4782-d844-f4a52321bb43"
      },
      "execution_count": 10,
      "outputs": [
        {
          "output_type": "stream",
          "name": "stderr",
          "text": [
            "<ipython-input-10-11fe563bf3e2>:1: UserWarning: `layer.updates` will be removed in a future version. This property should not be used in TensorFlow 2.0, as `updates` are applied automatically.\n",
            "  model.layers[1].updates\n"
          ]
        },
        {
          "output_type": "execute_result",
          "data": {
            "text/plain": [
              "[]"
            ]
          },
          "metadata": {},
          "execution_count": 10
        }
      ]
    },
    {
      "cell_type": "code",
      "source": [
        "model = tf.keras.Sequential([\n",
        "    tf.keras.layers.Flatten(input_shape=[28, 28]),\n",
        "    tf.keras.layers.Dense(300, kernel_initializer=\"he_normal\", use_bias=False),\n",
        "    tf.keras.layers.BatchNormalization(),\n",
        "    tf.keras.layers.Activation(\"relu\"),\n",
        "    tf.keras.layers.Dense(100, kernel_initializer=\"he_normal\", use_bias=False),\n",
        "    tf.keras.layers.BatchNormalization(),\n",
        "    tf.keras.layers.Activation(\"relu\"),\n",
        "    tf.keras.layers.Dense(10, activation=\"softmax\")\n",
        "])"
      ],
      "metadata": {
        "id": "POIO7u7dQH8-"
      },
      "execution_count": 11,
      "outputs": []
    },
    {
      "cell_type": "markdown",
      "source": [
        "### Gradient Clipping"
      ],
      "metadata": {
        "id": "V5Lv3BBWQkvA"
      }
    },
    {
      "cell_type": "code",
      "source": [
        "optimizer = tf.keras.optimizers.SGD(clipvalue=1.0)\n",
        "model.compile(loss=\"sparse_categorical_crossentropy\", optimizer=optimizer)"
      ],
      "metadata": {
        "id": "5CHyAAI9QaQ6"
      },
      "execution_count": 12,
      "outputs": []
    },
    {
      "cell_type": "markdown",
      "source": [
        "### Otimização Momentum"
      ],
      "metadata": {
        "id": "OBKQr1rPRTkZ"
      }
    },
    {
      "cell_type": "code",
      "source": [
        "optimizer = tf.keras.optimizers.SGD(learning_rate=0.001, momentum=0.9)"
      ],
      "metadata": {
        "id": "F4t1gm-2QvYa"
      },
      "execution_count": 13,
      "outputs": []
    },
    {
      "cell_type": "markdown",
      "source": [
        "### Gradiente acelerado de Nesterov"
      ],
      "metadata": {
        "id": "uWEQcITMUemX"
      }
    },
    {
      "cell_type": "code",
      "source": [
        "optimizer = tf.keras.optimizers.SGD(learning_rate=0.001, momentum=0.9,\n",
        "                                    nesterov=True)"
      ],
      "metadata": {
        "id": "L8Pt9Nh2Ub7D"
      },
      "execution_count": 14,
      "outputs": []
    },
    {
      "cell_type": "markdown",
      "source": [
        "### AdaGrad"
      ],
      "metadata": {
        "id": "Zc1QaG6MVW1I"
      }
    },
    {
      "cell_type": "code",
      "source": [
        "optimizer = tf.keras.optimizers.Adagrad(learning_rate=0.001)"
      ],
      "metadata": {
        "id": "X467pfk5VUCC"
      },
      "execution_count": 15,
      "outputs": []
    },
    {
      "cell_type": "markdown",
      "source": [
        "### RMSProp"
      ],
      "metadata": {
        "id": "sJjcuZeQVcNo"
      }
    },
    {
      "cell_type": "code",
      "source": [
        "optimizer = tf.keras.optimizers.RMSprop(learning_rate=0.001, rho=0.9)"
      ],
      "metadata": {
        "id": "5B_nz6SGVZsq"
      },
      "execution_count": 16,
      "outputs": []
    },
    {
      "cell_type": "markdown",
      "source": [
        "### Otimização Adam e Nadam"
      ],
      "metadata": {
        "id": "moMqnvzuVi6I"
      }
    },
    {
      "cell_type": "code",
      "source": [
        "optimizer = tf.keras.optimizers.Adam(learning_rate=0.001, beta_1=0.9,\n",
        "                                     beta_2=0.999)"
      ],
      "metadata": {
        "id": "JoSp-WRaVfEb"
      },
      "execution_count": 17,
      "outputs": []
    },
    {
      "cell_type": "code",
      "source": [
        "optimizer = tf.keras.optimizers.Adamax(learning_rate=0.001, beta_1=0.9,\n",
        "                                       beta_2=0.999)"
      ],
      "metadata": {
        "id": "8uNOb_sBVvCT"
      },
      "execution_count": 18,
      "outputs": []
    },
    {
      "cell_type": "code",
      "source": [
        "optimizer = tf.keras.optimizers.Nadam(learning_rate=0.001, beta_1=0.9,\n",
        "                                      beta_2=0.999)"
      ],
      "metadata": {
        "id": "u9KaOLifVx2P"
      },
      "execution_count": 19,
      "outputs": []
    },
    {
      "cell_type": "code",
      "source": [
        "optimizer = tf.keras.optimizers.AdamW(weight_decay=1e-5, learning_rate=0.001,\n",
        "                                      beta_1=0.9, beta_2=0.999)"
      ],
      "metadata": {
        "id": "X-yIoBHcV0ws"
      },
      "execution_count": 20,
      "outputs": []
    },
    {
      "cell_type": "markdown",
      "source": [
        "### Evitando Sobreajuste na Regularização\n",
        "\n",
        "* regularização _L1_ e _L2_"
      ],
      "metadata": {
        "id": "T4qxQdjDZQvu"
      }
    },
    {
      "cell_type": "code",
      "source": [
        "layer = tf.keras.layers.Dense(100, activation=\"relu\",\n",
        "                              kernel_initializer=\"he_normal\",\n",
        "                              kernel_regularizer=tf.keras.regularizers.l2(0.01))"
      ],
      "metadata": {
        "id": "Wmcj6u_QV46x"
      },
      "execution_count": 21,
      "outputs": []
    },
    {
      "cell_type": "code",
      "source": [
        "from functools import partial\n",
        "\n",
        "RegularizedDense = partial(tf.keras.layers.Dense,\n",
        "                           activation=\"relu\",\n",
        "                           kernel_initializer=\"he_normal\",\n",
        "                           kernel_regularizer=tf.keras.regularizers.l2(0.01))\n",
        "\n",
        "model = tf.keras.Sequential([\n",
        "    tf.keras.layers.Flatten(input_shape=[28, 28]),\n",
        "    RegularizedDense(100),\n",
        "    RegularizedDense(100),\n",
        "    RegularizedDense(10, activation=\"softmax\")\n",
        "])"
      ],
      "metadata": {
        "id": "aoRf_fJHZpWv"
      },
      "execution_count": 22,
      "outputs": []
    },
    {
      "cell_type": "markdown",
      "source": [
        "* Dropout"
      ],
      "metadata": {
        "id": "0FDgC8jSaFUB"
      }
    },
    {
      "cell_type": "code",
      "source": [
        "model = tf.keras.Sequential([\n",
        "    tf.keras.layers.Flatten(input_shape=[28, 28]),\n",
        "    tf.keras.layers.Dropout(rate=0.2),\n",
        "    tf.keras.layers.Dense(100, activation=\"relu\",\n",
        "                          kernel_initializer=\"he_normal\"),\n",
        "    tf.keras.layers.Dropout(rate=0.2),\n",
        "    tf.keras.layers.Dense(100, activation=\"relu\",\n",
        "                          kernel_initializer=\"he_normal\"),\n",
        "    tf.keras.layers.Dropout(rate=0.2),\n",
        "    tf.keras.layers.Dense(10, activation=\"softmax\")\n",
        "])"
      ],
      "metadata": {
        "id": "5vG1srXIaGKh"
      },
      "execution_count": 23,
      "outputs": []
    },
    {
      "cell_type": "markdown",
      "source": [
        "* Regularização Max-Norm"
      ],
      "metadata": {
        "id": "ArBixzxeaeuX"
      }
    },
    {
      "cell_type": "code",
      "source": [
        "dense = tf.keras.layers.Dense(\n",
        "    100, activation=\"relu\", kernel_initializer=\"he_normal\",\n",
        "    kernel_constraint=tf.keras.constraints.max_norm(1.))"
      ],
      "metadata": {
        "id": "6d1rto6Bani9"
      },
      "execution_count": 24,
      "outputs": []
    },
    {
      "cell_type": "markdown",
      "source": [
        "## Exercícios\n",
        "\n",
        "### Q. 8\n",
        "\n",
        "* _a)_"
      ],
      "metadata": {
        "id": "ZmzY4Ciga5ZP"
      }
    },
    {
      "cell_type": "code",
      "source": [
        "tf.random.set_seed(42)\n",
        "\n",
        "model = tf.keras.Sequential()\n",
        "model.add(tf.keras.layers.Flatten(input_shape=[32, 32, 3]))\n",
        "for _ in range(20):\n",
        "  model.add(tf.keras.layers.Dense(100, activation='elu', kernel_initializer='he_normal'))"
      ],
      "metadata": {
        "id": "LeAxy0KzazBQ"
      },
      "execution_count": 25,
      "outputs": []
    },
    {
      "cell_type": "markdown",
      "source": [
        "* _b)_"
      ],
      "metadata": {
        "id": "dX2DiZxY2C2k"
      }
    },
    {
      "cell_type": "code",
      "source": [
        "#output layer\n",
        "\n",
        "model.add(tf.keras.layers.Dense(10, activation='softmax'))"
      ],
      "metadata": {
        "id": "LqZddcli1fsp"
      },
      "execution_count": 26,
      "outputs": []
    },
    {
      "cell_type": "code",
      "source": [
        "optimizer = tf.keras.optimizers.Nadam(learning_rate=5e-5)\n",
        "model.compile(loss=\"sparse_categorical_crossentropy\",\n",
        "              optimizer=optimizer, metrics=[\"accuracy\"])"
      ],
      "metadata": {
        "id": "rhkRSLPr2fZc"
      },
      "execution_count": 27,
      "outputs": []
    },
    {
      "cell_type": "code",
      "source": [
        "cifar10 = tf.keras.datasets.cifar10\n",
        "(X_train_full, y_train_full), (X_test, y_test) = cifar10.load_data()\n",
        "\n",
        "print(X_train_full.shape)\n",
        "print(y_train_full.shape)\n",
        "print(X_test.shape)\n",
        "print(y_test.shape)"
      ],
      "metadata": {
        "colab": {
          "base_uri": "https://localhost:8080/"
        },
        "id": "hW9dxCCp29XL",
        "outputId": "477d31a8-220f-4d59-fd2c-72394fe51709"
      },
      "execution_count": 28,
      "outputs": [
        {
          "output_type": "stream",
          "name": "stdout",
          "text": [
            "Downloading data from https://www.cs.toronto.edu/~kriz/cifar-10-python.tar.gz\n",
            "170498071/170498071 [==============================] - 2s 0us/step\n",
            "(50000, 32, 32, 3)\n",
            "(50000, 1)\n",
            "(10000, 32, 32, 3)\n",
            "(10000, 1)\n"
          ]
        }
      ]
    },
    {
      "cell_type": "code",
      "source": [
        "X_train = X_train_full[5000:]\n",
        "y_train = y_train_full[5000:]\n",
        "X_valid = X_train_full[:5000]\n",
        "y_valid = y_train_full[:5000]"
      ],
      "metadata": {
        "id": "peKga-RZ3C0d"
      },
      "execution_count": 29,
      "outputs": []
    },
    {
      "cell_type": "code",
      "source": [
        "from pathlib import Path\n",
        "\n",
        "early_stopping_cb = tf.keras.callbacks.EarlyStopping(patience=20, restore_best_weights=True)\n",
        "model_checkpoint_cb = tf.keras.callbacks.ModelCheckpoint(\"my_cifar10_model\", save_best_only=True)\n",
        "\n",
        "callbacks = [early_stopping_cb, model_checkpoint_cb]"
      ],
      "metadata": {
        "id": "_1Ru7NfL3wGA"
      },
      "execution_count": 30,
      "outputs": []
    },
    {
      "cell_type": "code",
      "source": [
        "model.fit(X_train, y_train, epochs=100,\n",
        "          validation_data=(X_valid, y_valid), callbacks=callbacks)"
      ],
      "metadata": {
        "colab": {
          "base_uri": "https://localhost:8080/"
        },
        "id": "nNVzImsI5K7A",
        "outputId": "72016c54-cfc9-47ab-9387-ad209ecbdbb4"
      },
      "execution_count": null,
      "outputs": [
        {
          "output_type": "stream",
          "name": "stdout",
          "text": [
            "Epoch 1/100\n",
            "1407/1407 [==============================] - 32s 14ms/step - loss: 4.9723 - accuracy: 0.1608 - val_loss: 2.1691 - val_accuracy: 0.2170\n",
            "Epoch 2/100\n",
            "1407/1407 [==============================] - 18s 13ms/step - loss: 2.0846 - accuracy: 0.2445 - val_loss: 2.0976 - val_accuracy: 0.2306\n",
            "Epoch 3/100\n",
            "1407/1407 [==============================] - 18s 13ms/step - loss: 1.9651 - accuracy: 0.2806 - val_loss: 1.9275 - val_accuracy: 0.2912\n",
            "Epoch 4/100\n",
            "1407/1407 [==============================] - 18s 13ms/step - loss: 1.8843 - accuracy: 0.3100 - val_loss: 1.8603 - val_accuracy: 0.3324\n",
            "Epoch 5/100\n",
            "1407/1407 [==============================] - 19s 13ms/step - loss: 1.8219 - accuracy: 0.3335 - val_loss: 1.8270 - val_accuracy: 0.3322\n",
            "Epoch 6/100\n",
            "1407/1407 [==============================] - 18s 13ms/step - loss: 1.7772 - accuracy: 0.3569 - val_loss: 1.7577 - val_accuracy: 0.3614\n",
            "Epoch 7/100\n",
            "1407/1407 [==============================] - 18s 13ms/step - loss: 1.7345 - accuracy: 0.3704 - val_loss: 1.7405 - val_accuracy: 0.3622\n",
            "Epoch 8/100\n",
            "1407/1407 [==============================] - 18s 13ms/step - loss: 1.6973 - accuracy: 0.3845 - val_loss: 1.6802 - val_accuracy: 0.3898\n",
            "Epoch 9/100\n",
            "1407/1407 [==============================] - 15s 11ms/step - loss: 1.6657 - accuracy: 0.3980 - val_loss: 1.6814 - val_accuracy: 0.3886\n",
            "Epoch 10/100\n",
            "1407/1407 [==============================] - 16s 11ms/step - loss: 1.6397 - accuracy: 0.4074 - val_loss: 1.7705 - val_accuracy: 0.3620\n",
            "Epoch 11/100\n",
            "1407/1407 [==============================] - 15s 11ms/step - loss: 1.6151 - accuracy: 0.4126 - val_loss: 1.6879 - val_accuracy: 0.3920\n",
            "Epoch 12/100\n",
            "1407/1407 [==============================] - 18s 13ms/step - loss: 1.5936 - accuracy: 0.4243 - val_loss: 1.6612 - val_accuracy: 0.3958\n",
            "Epoch 13/100\n",
            "1407/1407 [==============================] - 15s 11ms/step - loss: 1.5708 - accuracy: 0.4301 - val_loss: 1.6688 - val_accuracy: 0.4010\n",
            "Epoch 14/100\n",
            "1407/1407 [==============================] - 17s 12ms/step - loss: 1.5574 - accuracy: 0.4356 - val_loss: 1.5969 - val_accuracy: 0.4188\n",
            "Epoch 15/100\n",
            "1407/1407 [==============================] - 15s 10ms/step - loss: 1.5377 - accuracy: 0.4459 - val_loss: 1.6205 - val_accuracy: 0.4204\n",
            "Epoch 16/100\n",
            "1407/1407 [==============================] - 18s 13ms/step - loss: 1.5215 - accuracy: 0.4513 - val_loss: 1.5908 - val_accuracy: 0.4218\n",
            "Epoch 17/100\n",
            "1407/1407 [==============================] - 18s 13ms/step - loss: 1.5071 - accuracy: 0.4562 - val_loss: 1.5864 - val_accuracy: 0.4348\n",
            "Epoch 18/100\n",
            "1407/1407 [==============================] - 15s 11ms/step - loss: 1.4896 - accuracy: 0.4649 - val_loss: 1.6197 - val_accuracy: 0.4188\n",
            "Epoch 19/100\n",
            "1407/1407 [==============================] - 17s 12ms/step - loss: 1.4800 - accuracy: 0.4667 - val_loss: 1.5709 - val_accuracy: 0.4238\n",
            "Epoch 20/100\n",
            "1407/1407 [==============================] - 16s 11ms/step - loss: 1.4679 - accuracy: 0.4708 - val_loss: 1.6551 - val_accuracy: 0.4142\n",
            "Epoch 21/100\n",
            "1407/1407 [==============================] - 15s 11ms/step - loss: 1.4563 - accuracy: 0.4776 - val_loss: 1.5854 - val_accuracy: 0.4374\n",
            "Epoch 22/100\n",
            "1407/1407 [==============================] - 18s 13ms/step - loss: 1.4453 - accuracy: 0.4796 - val_loss: 1.5451 - val_accuracy: 0.4448\n",
            "Epoch 23/100\n",
            "1407/1407 [==============================] - 15s 10ms/step - loss: 1.4299 - accuracy: 0.4867 - val_loss: 1.5808 - val_accuracy: 0.4328\n",
            "Epoch 24/100\n",
            "1407/1407 [==============================] - 15s 11ms/step - loss: 1.4187 - accuracy: 0.4908 - val_loss: 1.5736 - val_accuracy: 0.4352\n",
            "Epoch 25/100\n",
            "1407/1407 [==============================] - 15s 11ms/step - loss: 1.4114 - accuracy: 0.4950 - val_loss: 1.5641 - val_accuracy: 0.4410\n",
            "Epoch 26/100\n",
            "1407/1407 [==============================] - 15s 11ms/step - loss: 1.3973 - accuracy: 0.4961 - val_loss: 1.5771 - val_accuracy: 0.4388\n",
            "Epoch 27/100\n",
            "1407/1407 [==============================] - 15s 11ms/step - loss: 1.3863 - accuracy: 0.5032 - val_loss: 1.5562 - val_accuracy: 0.4530\n",
            "Epoch 28/100\n",
            "1407/1407 [==============================] - 15s 10ms/step - loss: 1.3783 - accuracy: 0.5069 - val_loss: 1.5477 - val_accuracy: 0.4466\n",
            "Epoch 29/100\n",
            "1407/1407 [==============================] - 18s 13ms/step - loss: 1.3720 - accuracy: 0.5062 - val_loss: 1.5265 - val_accuracy: 0.4668\n",
            "Epoch 30/100\n",
            "1407/1407 [==============================] - 15s 10ms/step - loss: 1.3600 - accuracy: 0.5121 - val_loss: 1.5501 - val_accuracy: 0.4560\n",
            "Epoch 31/100\n",
            "1407/1407 [==============================] - 15s 11ms/step - loss: 1.3516 - accuracy: 0.5136 - val_loss: 1.5884 - val_accuracy: 0.4294\n",
            "Epoch 32/100\n",
            "1407/1407 [==============================] - 15s 10ms/step - loss: 1.3415 - accuracy: 0.5191 - val_loss: 1.5576 - val_accuracy: 0.4580\n",
            "Epoch 33/100\n",
            "1407/1407 [==============================] - 15s 11ms/step - loss: 1.3348 - accuracy: 0.5198 - val_loss: 1.5608 - val_accuracy: 0.4490\n",
            "Epoch 34/100\n",
            "1407/1407 [==============================] - 15s 11ms/step - loss: 1.3258 - accuracy: 0.5249 - val_loss: 1.5461 - val_accuracy: 0.4626\n",
            "Epoch 35/100\n",
            "1407/1407 [==============================] - 15s 11ms/step - loss: 1.3176 - accuracy: 0.5278 - val_loss: 1.5589 - val_accuracy: 0.4570\n",
            "Epoch 36/100\n",
            "1407/1407 [==============================] - 14s 10ms/step - loss: 1.3116 - accuracy: 0.5307 - val_loss: 1.5562 - val_accuracy: 0.4610\n",
            "Epoch 37/100\n",
            "1407/1407 [==============================] - 15s 10ms/step - loss: 1.3006 - accuracy: 0.5329 - val_loss: 1.5522 - val_accuracy: 0.4630\n",
            "Epoch 38/100\n",
            "1407/1407 [==============================] - 15s 11ms/step - loss: 1.2965 - accuracy: 0.5344 - val_loss: 1.5516 - val_accuracy: 0.4614\n",
            "Epoch 39/100\n",
            " 349/1407 [======>.......................] - ETA: 10s - loss: 1.2924 - accuracy: 0.5354"
          ]
        }
      ]
    },
    {
      "cell_type": "code",
      "source": [
        "model.evaluate(X_valid, y_valid)"
      ],
      "metadata": {
        "id": "h9oC3WWI58-D"
      },
      "execution_count": null,
      "outputs": []
    },
    {
      "cell_type": "markdown",
      "source": [
        "* _c)_"
      ],
      "metadata": {
        "id": "sI1Gi7Lt_R4R"
      }
    },
    {
      "cell_type": "code",
      "source": [
        "tf.random.set_seed(42)\n",
        "\n",
        "model = tf.keras.Sequential()\n",
        "model.add(tf.keras.layers.Flatten(input_shape=[32, 32, 3]))\n",
        "for _ in range(20):\n",
        "  model.add(tf.keras.layers.Dense(100, kernel_initializer='he_normal'))\n",
        "  model.add(tf.keras.layers.BatchNormalization())\n",
        "  model.add(tf.keras.layers.Activation('elu'))\n",
        "\n",
        "model.add(tf.keras.layers.Dense(10, activation='softmax'))"
      ],
      "metadata": {
        "id": "cQ38nfbN_Qqt"
      },
      "execution_count": null,
      "outputs": []
    },
    {
      "cell_type": "code",
      "source": [
        "optimizer = tf.keras.optimizers.Nadam(learning_rate=5e-4)\n",
        "model.compile(loss=\"sparse_categorical_crossentropy\",\n",
        "              optimizer=optimizer, metrics=[\"accuracy\"])"
      ],
      "metadata": {
        "id": "EMcymxJ6_gTQ"
      },
      "execution_count": null,
      "outputs": []
    },
    {
      "cell_type": "code",
      "source": [
        "early_stopping_cb = tf.keras.callbacks.EarlyStopping(patience=20,\n",
        "                                                     restore_best_weights=True)\n",
        "model_ckeckpoint_cb = tf.keras.callbacks.ModelCheckpoint(\"my_cifar10_bn_model\",\n",
        "                                                         save_best_only=True)\n",
        "callbacks = [early_stopping_cb, model_checkpoint_cb]"
      ],
      "metadata": {
        "id": "Z6AZ7JV9AXBT"
      },
      "execution_count": null,
      "outputs": []
    },
    {
      "cell_type": "code",
      "source": [
        "model.fit(X_train, y_train, epochs=100,\n",
        "          validation_data=(X_valid, y_valid),\n",
        "          callbacks=callbacks)"
      ],
      "metadata": {
        "id": "5NSZ7VZtBFqa"
      },
      "execution_count": null,
      "outputs": []
    },
    {
      "cell_type": "code",
      "source": [
        "model.evaluate(X_valid, y_valid)"
      ],
      "metadata": {
        "id": "jBug4ijXBZ7j"
      },
      "execution_count": null,
      "outputs": []
    },
    {
      "cell_type": "markdown",
      "source": [
        "* _d)_"
      ],
      "metadata": {
        "id": "DzPxDP62BodS"
      }
    },
    {
      "cell_type": "code",
      "source": [
        "tf.random.set_seed(42)\n",
        "\n",
        "model = tf.keras.Sequential()\n",
        "model.add(tf.keras.layers.Flatten(input_shape=[32, 32, 3]))\n",
        "for _ in range(20):\n",
        "    model.add(tf.keras.layers.Dense(100,\n",
        "                                    kernel_initializer=\"lecun_normal\",\n",
        "                                    activation=\"selu\"))\n",
        "\n",
        "model.add(tf.keras.layers.Dense(10, activation=\"softmax\"))\n",
        "\n",
        "optimizer = tf.keras.optimizers.Nadam(learning_rate=7e-4)\n",
        "model.compile(loss=\"sparse_categorical_crossentropy\",\n",
        "              optimizer=optimizer,\n",
        "              metrics=[\"accuracy\"])\n",
        "\n",
        "early_stopping_cb = tf.keras.callbacks.EarlyStopping(\n",
        "    patience=20, restore_best_weights=True)\n",
        "model_checkpoint_cb = tf.keras.callbacks.ModelCheckpoint(\n",
        "    \"my_cifar10_selu_model\", save_best_only=True)\n",
        "callbacks = [early_stopping_cb, model_checkpoint_cb]\n",
        "\n",
        "X_means = X_train.mean(axis=0)\n",
        "X_stds = X_train.std(axis=0)\n",
        "X_train_scaled = (X_train - X_means) / X_stds\n",
        "X_valid_scaled = (X_valid - X_means) / X_stds\n",
        "X_test_scaled = (X_test - X_means) / X_stds\n",
        "\n",
        "model.fit(X_train_scaled, y_train, epochs=100,\n",
        "          validation_data=(X_valid_scaled, y_valid),\n",
        "          callbacks=callbacks)\n",
        "\n",
        "model.evaluate(X_valid_scaled, y_valid)"
      ],
      "metadata": {
        "id": "8QJt36rbBqJ6"
      },
      "execution_count": null,
      "outputs": []
    }
  ]
}