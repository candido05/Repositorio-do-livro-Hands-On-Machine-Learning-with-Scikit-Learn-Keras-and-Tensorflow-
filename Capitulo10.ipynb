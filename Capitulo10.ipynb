{
  "nbformat": 4,
  "nbformat_minor": 0,
  "metadata": {
    "colab": {
      "provenance": [],
      "gpuType": "T4",
      "authorship_tag": "ABX9TyOmwuLjOoHFBDzDJp5iW6K7",
      "include_colab_link": true
    },
    "kernelspec": {
      "name": "python3",
      "display_name": "Python 3"
    },
    "language_info": {
      "name": "python"
    },
    "accelerator": "GPU"
  },
  "cells": [
    {
      "cell_type": "markdown",
      "metadata": {
        "id": "view-in-github",
        "colab_type": "text"
      },
      "source": [
        "<a href=\"https://colab.research.google.com/github/candido05/Repositorio-do-livro-Hands-On-Machine-Learning-with-Scikit-Learn-Keras-and-Tensorflow-/blob/main/Capitulo10.ipynb\" target=\"_parent\"><img src=\"https://colab.research.google.com/assets/colab-badge.svg\" alt=\"Open In Colab\"/></a>"
      ]
    },
    {
      "cell_type": "markdown",
      "source": [
        "# Capítulo 10 - Introdução às Redes Neurais Artificiais com Keras"
      ],
      "metadata": {
        "id": "npWiDkg0NgQj"
      }
    },
    {
      "cell_type": "code",
      "source": [
        "import tensorflow as tf\n",
        "from tensorflow import keras"
      ],
      "metadata": {
        "id": "rxMaqo0VMh4x"
      },
      "execution_count": 48,
      "outputs": []
    },
    {
      "cell_type": "markdown",
      "source": [
        "### Constrindo um modelo de classificação com Keras"
      ],
      "metadata": {
        "id": "yY2bBkBN1kPX"
      }
    },
    {
      "cell_type": "markdown",
      "source": [
        "Usando o Keras para carregar o conjunto de dados"
      ],
      "metadata": {
        "id": "xAHJWZv1Nryg"
      }
    },
    {
      "cell_type": "code",
      "source": [
        "fashion_mnist = keras.datasets.fashion_mnist\n",
        "(X_train_full, y_train_full), (X_test, y_test) = fashion_mnist.load_data()"
      ],
      "metadata": {
        "id": "nT3LgrREMowW"
      },
      "execution_count": 49,
      "outputs": []
    },
    {
      "cell_type": "code",
      "source": [
        "print(X_train_full.shape)\n",
        "print(y_train_full.shape)\n",
        "print(X_test.shape)\n",
        "print(y_test.shape)"
      ],
      "metadata": {
        "colab": {
          "base_uri": "https://localhost:8080/"
        },
        "id": "M5HYbacEOIl-",
        "outputId": "2c5a399b-0480-45e9-e402-f4f2ea7fd31a"
      },
      "execution_count": 50,
      "outputs": [
        {
          "output_type": "stream",
          "name": "stdout",
          "text": [
            "(60000, 28, 28)\n",
            "(60000,)\n",
            "(10000, 28, 28)\n",
            "(10000,)\n"
          ]
        }
      ]
    },
    {
      "cell_type": "code",
      "source": [
        "X_valid, X_train = X_train_full[:5000] / 255.0, X_train_full[5000:] / 255.0\n",
        "y_valid, y_train = y_train_full[:5000], y_train_full[5000:]\n",
        "X_test = X_test / 255.0"
      ],
      "metadata": {
        "id": "PXgFbthSOhe5"
      },
      "execution_count": 51,
      "outputs": []
    },
    {
      "cell_type": "code",
      "source": [
        "import matplotlib.pyplot as plt\n",
        "\n",
        "plt.imshow(X_train[0], cmap=\"binary\")\n",
        "plt.axis('off')\n",
        "plt.show()"
      ],
      "metadata": {
        "colab": {
          "base_uri": "https://localhost:8080/",
          "height": 406
        },
        "id": "mxpfHTKyP9ge",
        "outputId": "ae7b02fc-2abd-4ec4-b424-ae7571c2081e"
      },
      "execution_count": 52,
      "outputs": [
        {
          "output_type": "display_data",
          "data": {
            "text/plain": [
              "<Figure size 640x480 with 1 Axes>"
            ],
            "image/png": "[encoded data removed]"
          },
          "metadata": {}
        }
      ]
    },
    {
      "cell_type": "code",
      "source": [
        "y_train"
      ],
      "metadata": {
        "colab": {
          "base_uri": "https://localhost:8080/"
        },
        "id": "dOPOvdBuQIA9",
        "outputId": "aa157979-8d5a-4688-cbde-21ca913cb4da"
      },
      "execution_count": 53,
      "outputs": [
        {
          "output_type": "execute_result",
          "data": {
            "text/plain": [
              "array([4, 0, 7, ..., 3, 0, 5], dtype=uint8)"
            ]
          },
          "metadata": {},
          "execution_count": 53
        }
      ]
    },
    {
      "cell_type": "code",
      "source": [
        "class_names = [\"T-shirt/top\", \"Trouser\", \"Pullover\", \"Dress\", \"Coat\",\n",
        "               \"Sandal\", \"Shirt\", \"Sneaker\", \"Bag\", \"Ankle boot\"]"
      ],
      "metadata": {
        "id": "zAwreuZPQRtz"
      },
      "execution_count": 54,
      "outputs": []
    },
    {
      "cell_type": "code",
      "source": [
        "class_names[y_train[0]]"
      ],
      "metadata": {
        "colab": {
          "base_uri": "https://localhost:8080/",
          "height": 35
        },
        "id": "zKHJr-BpQVNn",
        "outputId": "c1871b7e-d148-4ead-a482-6def78734bc6"
      },
      "execution_count": 55,
      "outputs": [
        {
          "output_type": "execute_result",
          "data": {
            "text/plain": [
              "'Coat'"
            ],
            "application/vnd.google.colaboratory.intrinsic+json": {
              "type": "string"
            }
          },
          "metadata": {},
          "execution_count": 55
        }
      ]
    },
    {
      "cell_type": "code",
      "source": [
        "n_rows = 4\n",
        "n_cols = 10\n",
        "plt.figure(figsize=(n_cols * 1.2, n_rows * 1.2))\n",
        "for row in range(n_rows):\n",
        "    for col in range(n_cols):\n",
        "        index = n_cols * row + col\n",
        "        plt.subplot(n_rows, n_cols, index + 1)\n",
        "        plt.imshow(X_train[index], cmap=\"binary\", interpolation=\"nearest\")\n",
        "        plt.axis('off')\n",
        "        plt.title(class_names[y_train[index]], fontsize=12)\n",
        "plt.subplots_adjust(wspace=0.2, hspace=0.5)\n",
        "plt.show()"
      ],
      "metadata": {
        "colab": {
          "base_uri": "https://localhost:8080/",
          "height": 428
        },
        "id": "8dNTT7BWQYjW",
        "outputId": "5af243e9-28f5-4f21-9652-aff331a60fdf"
      },
      "execution_count": 56,
      "outputs": [
        {
          "output_type": "display_data",
          "data": {
            "text/plain": [
              "<Figure size 1200x480 with 40 Axes>"
            ],
            "image/png": "[encoded data removed]"
          },
          "metadata": {}
        }
      ]
    },
    {
      "cell_type": "markdown",
      "source": [
        "Criando o modelo usando a sequencial API"
      ],
      "metadata": {
        "id": "IGuQERevQvVt"
      }
    },
    {
      "cell_type": "code",
      "source": [
        "model = keras.models.Sequential()\n",
        "model.add(keras.layers.Flatten(input_shape=[28,28]))\n",
        "model.add(keras.layers.Dense(300, activation=\"relu\"))\n",
        "model.add(keras.layers.Dense(100, activation=\"relu\"))\n",
        "model.add(keras.layers.Dense(10, activation=\"softmax\"))"
      ],
      "metadata": {
        "id": "aPoBp2bFQmNn"
      },
      "execution_count": 57,
      "outputs": []
    },
    {
      "cell_type": "code",
      "source": [
        "model.summary()"
      ],
      "metadata": {
        "colab": {
          "base_uri": "https://localhost:8080/"
        },
        "id": "dZtaRvEySw48",
        "outputId": "67e07a87-0970-4c94-f8d7-b250c636445e"
      },
      "execution_count": 58,
      "outputs": [
        {
          "output_type": "stream",
          "name": "stdout",
          "text": [
            "Model: \"sequential_4\"\n",
            "_________________________________________________________________\n",
            " Layer (type)                Output Shape              Param #   \n",
            "=================================================================\n",
            " flatten_1 (Flatten)         (None, 784)               0         \n",
            "                                                                 \n",
            " dense_20 (Dense)            (None, 300)               235500    \n",
            "                                                                 \n",
            " dense_21 (Dense)            (None, 100)               30100     \n",
            "                                                                 \n",
            " dense_22 (Dense)            (None, 10)                1010      \n",
            "                                                                 \n",
            "=================================================================\n",
            "Total params: 266610 (1.02 MB)\n",
            "Trainable params: 266610 (1.02 MB)\n",
            "Non-trainable params: 0 (0.00 Byte)\n",
            "_________________________________________________________________\n"
          ]
        }
      ]
    },
    {
      "cell_type": "code",
      "source": [
        "keras.utils.plot_model(model, show_shapes=True)"
      ],
      "metadata": {
        "colab": {
          "base_uri": "https://localhost:8080/",
          "height": 533
        },
        "id": "YhpoCfZFSz11",
        "outputId": "a4d8ef52-6296-48fb-c3e1-182bef403405"
      },
      "execution_count": 59,
      "outputs": [
        {
          "output_type": "execute_result",
          "data": {
            "image/png": "[encoded data removed]",
            "text/plain": [
              "<IPython.core.display.Image object>"
            ]
          },
          "metadata": {},
          "execution_count": 59
        }
      ]
    },
    {
      "cell_type": "code",
      "source": [
        "model.layers"
      ],
      "metadata": {
        "colab": {
          "base_uri": "https://localhost:8080/"
        },
        "id": "Jo6_PqQoS7fD",
        "outputId": "545a6db7-f2c4-4658-ff29-eb6996b21efe"
      },
      "execution_count": 60,
      "outputs": [
        {
          "output_type": "execute_result",
          "data": {
            "text/plain": [
              "[<keras.src.layers.reshaping.flatten.Flatten at 0x7b73b6f6ad70>,\n",
              " <keras.src.layers.core.dense.Dense at 0x7b739e377d60>,\n",
              " <keras.src.layers.core.dense.Dense at 0x7b739e375db0>,\n",
              " <keras.src.layers.core.dense.Dense at 0x7b73b6fdc4c0>]"
            ]
          },
          "metadata": {},
          "execution_count": 60
        }
      ]
    },
    {
      "cell_type": "markdown",
      "source": [
        "Compilando o modelo"
      ],
      "metadata": {
        "id": "KKV-Fic2VOYB"
      }
    },
    {
      "cell_type": "code",
      "source": [
        "model.compile(loss=\"sparse_categorical_crossentropy\", optimizer=\"sgd\",\n",
        "              metrics=[\"accuracy\"])"
      ],
      "metadata": {
        "id": "kVZv9rzDTOBs"
      },
      "execution_count": 61,
      "outputs": []
    },
    {
      "cell_type": "markdown",
      "source": [
        "Treinamento e avaliação do modelo"
      ],
      "metadata": {
        "id": "O_z_ELL7uCiC"
      }
    },
    {
      "cell_type": "code",
      "source": [
        "history = model.fit(X_train, y_train, epochs=30,\n",
        "                    validation_data=(X_valid, y_valid))"
      ],
      "metadata": {
        "colab": {
          "base_uri": "https://localhost:8080/"
        },
        "id": "RTfAiIQQuAxr",
        "outputId": "bb099827-5f1a-4961-e7bc-f6919e988a13"
      },
      "execution_count": 62,
      "outputs": [
        {
          "output_type": "stream",
          "name": "stdout",
          "text": [
            "Epoch 1/30\n",
            "1719/1719 [==============================] - 14s 7ms/step - loss: 0.7142 - accuracy: 0.7640 - val_loss: 0.4891 - val_accuracy: 0.8342\n",
            "Epoch 2/30\n",
            "1719/1719 [==============================] - 6s 4ms/step - loss: 0.4809 - accuracy: 0.8327 - val_loss: 0.4613 - val_accuracy: 0.8352\n",
            "Epoch 3/30\n",
            "1719/1719 [==============================] - 6s 4ms/step - loss: 0.4385 - accuracy: 0.8463 - val_loss: 0.4105 - val_accuracy: 0.8554\n",
            "Epoch 4/30\n",
            "1719/1719 [==============================] - 8s 5ms/step - loss: 0.4104 - accuracy: 0.8568 - val_loss: 0.3890 - val_accuracy: 0.8656\n",
            "Epoch 5/30\n",
            "1719/1719 [==============================] - 6s 4ms/step - loss: 0.3924 - accuracy: 0.8619 - val_loss: 0.3959 - val_accuracy: 0.8612\n",
            "Epoch 6/30\n",
            "1719/1719 [==============================] - 7s 4ms/step - loss: 0.3776 - accuracy: 0.8664 - val_loss: 0.3875 - val_accuracy: 0.8610\n",
            "Epoch 7/30\n",
            "1719/1719 [==============================] - 6s 3ms/step - loss: 0.3633 - accuracy: 0.8719 - val_loss: 0.3939 - val_accuracy: 0.8572\n",
            "Epoch 8/30\n",
            "1719/1719 [==============================] - 7s 4ms/step - loss: 0.3527 - accuracy: 0.8756 - val_loss: 0.3566 - val_accuracy: 0.8728\n",
            "Epoch 9/30\n",
            "1719/1719 [==============================] - 6s 3ms/step - loss: 0.3425 - accuracy: 0.8783 - val_loss: 0.3408 - val_accuracy: 0.8790\n",
            "Epoch 10/30\n",
            "1719/1719 [==============================] - 7s 4ms/step - loss: 0.3332 - accuracy: 0.8811 - val_loss: 0.3581 - val_accuracy: 0.8690\n",
            "Epoch 11/30\n",
            "1719/1719 [==============================] - 6s 3ms/step - loss: 0.3258 - accuracy: 0.8841 - val_loss: 0.3411 - val_accuracy: 0.8804\n",
            "Epoch 12/30\n",
            "1719/1719 [==============================] - 7s 4ms/step - loss: 0.3166 - accuracy: 0.8867 - val_loss: 0.3488 - val_accuracy: 0.8764\n",
            "Epoch 13/30\n",
            "1719/1719 [==============================] - 6s 3ms/step - loss: 0.3097 - accuracy: 0.8887 - val_loss: 0.3254 - val_accuracy: 0.8824\n",
            "Epoch 14/30\n",
            "1719/1719 [==============================] - 7s 4ms/step - loss: 0.3023 - accuracy: 0.8916 - val_loss: 0.3312 - val_accuracy: 0.8798\n",
            "Epoch 15/30\n",
            "1719/1719 [==============================] - 7s 4ms/step - loss: 0.2957 - accuracy: 0.8931 - val_loss: 0.3208 - val_accuracy: 0.8848\n",
            "Epoch 16/30\n",
            "1719/1719 [==============================] - 6s 4ms/step - loss: 0.2904 - accuracy: 0.8963 - val_loss: 0.3267 - val_accuracy: 0.8860\n",
            "Epoch 17/30\n",
            "1719/1719 [==============================] - 6s 4ms/step - loss: 0.2845 - accuracy: 0.8978 - val_loss: 0.3082 - val_accuracy: 0.8900\n",
            "Epoch 18/30\n",
            "1719/1719 [==============================] - 7s 4ms/step - loss: 0.2791 - accuracy: 0.9002 - val_loss: 0.3272 - val_accuracy: 0.8782\n",
            "Epoch 19/30\n",
            "1719/1719 [==============================] - 6s 4ms/step - loss: 0.2735 - accuracy: 0.9010 - val_loss: 0.3161 - val_accuracy: 0.8848\n",
            "Epoch 20/30\n",
            "1719/1719 [==============================] - 6s 3ms/step - loss: 0.2686 - accuracy: 0.9027 - val_loss: 0.3218 - val_accuracy: 0.8838\n",
            "Epoch 21/30\n",
            "1719/1719 [==============================] - 7s 4ms/step - loss: 0.2649 - accuracy: 0.9045 - val_loss: 0.3074 - val_accuracy: 0.8896\n",
            "Epoch 22/30\n",
            "1719/1719 [==============================] - 6s 4ms/step - loss: 0.2596 - accuracy: 0.9069 - val_loss: 0.3059 - val_accuracy: 0.8888\n",
            "Epoch 23/30\n",
            "1719/1719 [==============================] - 7s 4ms/step - loss: 0.2548 - accuracy: 0.9090 - val_loss: 0.3026 - val_accuracy: 0.8922\n",
            "Epoch 24/30\n",
            "1719/1719 [==============================] - 6s 3ms/step - loss: 0.2513 - accuracy: 0.9087 - val_loss: 0.3083 - val_accuracy: 0.8868\n",
            "Epoch 25/30\n",
            "1719/1719 [==============================] - 7s 4ms/step - loss: 0.2457 - accuracy: 0.9112 - val_loss: 0.3069 - val_accuracy: 0.8900\n",
            "Epoch 26/30\n",
            "1719/1719 [==============================] - 6s 3ms/step - loss: 0.2430 - accuracy: 0.9137 - val_loss: 0.3102 - val_accuracy: 0.8868\n",
            "Epoch 27/30\n",
            "1719/1719 [==============================] - 7s 4ms/step - loss: 0.2390 - accuracy: 0.9148 - val_loss: 0.2998 - val_accuracy: 0.8928\n",
            "Epoch 28/30\n",
            "1719/1719 [==============================] - 6s 3ms/step - loss: 0.2352 - accuracy: 0.9157 - val_loss: 0.2934 - val_accuracy: 0.8936\n",
            "Epoch 29/30\n",
            "1719/1719 [==============================] - 7s 4ms/step - loss: 0.2307 - accuracy: 0.9171 - val_loss: 0.2954 - val_accuracy: 0.8944\n",
            "Epoch 30/30\n",
            "1719/1719 [==============================] - 6s 3ms/step - loss: 0.2265 - accuracy: 0.9189 - val_loss: 0.2961 - val_accuracy: 0.8928\n"
          ]
        }
      ]
    },
    {
      "cell_type": "code",
      "source": [
        "import pandas as pd\n",
        "\n",
        "pd.DataFrame(history.history).plot(figsize=(8, 5))\n",
        "plt.grid()\n",
        "plt.gca().set_ylim(0, 1) #definindo o intervalo vertical para 0 e 1\n",
        "plt.show()"
      ],
      "metadata": {
        "colab": {
          "base_uri": "https://localhost:8080/",
          "height": 451
        },
        "id": "95fJ7KevuVOf",
        "outputId": "f585686c-5f54-420e-bc95-0f9e0938be7f"
      },
      "execution_count": 63,
      "outputs": [
        {
          "output_type": "display_data",
          "data": {
            "text/plain": [
              "<Figure size 800x500 with 1 Axes>"
            ],
            "image/png": "[encoded data removed]"
          },
          "metadata": {}
        }
      ]
    },
    {
      "cell_type": "code",
      "source": [
        "model.evaluate(X_test, y_test)"
      ],
      "metadata": {
        "colab": {
          "base_uri": "https://localhost:8080/"
        },
        "id": "SdbMKBnOwOYz",
        "outputId": "eef683ef-a523-404e-ca29-6ebe3183c256"
      },
      "execution_count": 64,
      "outputs": [
        {
          "output_type": "stream",
          "name": "stdout",
          "text": [
            "313/313 [==============================] - 1s 3ms/step - loss: 0.3229 - accuracy: 0.8845\n"
          ]
        },
        {
          "output_type": "execute_result",
          "data": {
            "text/plain": [
              "[0.322902113199234, 0.8845000267028809]"
            ]
          },
          "metadata": {},
          "execution_count": 64
        }
      ]
    },
    {
      "cell_type": "markdown",
      "source": [
        "Usando o modelo para fazer predições"
      ],
      "metadata": {
        "id": "HeMDHOqeybdq"
      }
    },
    {
      "cell_type": "code",
      "source": [
        "X_new = X_test[:3]\n",
        "y_proba = model.predict(X_new)\n",
        "y_proba.round(2)"
      ],
      "metadata": {
        "colab": {
          "base_uri": "https://localhost:8080/"
        },
        "id": "LcMYdlvQyUYf",
        "outputId": "ff842d4a-e3bc-43c3-ce95-4de7099f56ce"
      },
      "execution_count": 65,
      "outputs": [
        {
          "output_type": "stream",
          "name": "stdout",
          "text": [
            "1/1 [==============================] - 0s 91ms/step\n"
          ]
        },
        {
          "output_type": "execute_result",
          "data": {
            "text/plain": [
              "array([[0.  , 0.  , 0.  , 0.  , 0.  , 0.01, 0.  , 0.01, 0.  , 0.98],\n",
              "       [0.  , 0.  , 1.  , 0.  , 0.  , 0.  , 0.  , 0.  , 0.  , 0.  ],\n",
              "       [0.  , 1.  , 0.  , 0.  , 0.  , 0.  , 0.  , 0.  , 0.  , 0.  ]],\n",
              "      dtype=float32)"
            ]
          },
          "metadata": {},
          "execution_count": 65
        }
      ]
    },
    {
      "cell_type": "code",
      "source": [
        "y_pred = y_proba.argmax(axis=1)\n",
        "y_pred"
      ],
      "metadata": {
        "colab": {
          "base_uri": "https://localhost:8080/"
        },
        "id": "L5frBkep0MND",
        "outputId": "933c2bbb-78b1-45b7-84c1-0ce34c6683fe"
      },
      "execution_count": 66,
      "outputs": [
        {
          "output_type": "execute_result",
          "data": {
            "text/plain": [
              "array([9, 2, 1])"
            ]
          },
          "metadata": {},
          "execution_count": 66
        }
      ]
    },
    {
      "cell_type": "code",
      "source": [
        "import numpy as np\n",
        "\n",
        "np.array(class_names)[y_pred]"
      ],
      "metadata": {
        "colab": {
          "base_uri": "https://localhost:8080/"
        },
        "id": "eFUHbg1A0swb",
        "outputId": "d08c236c-067c-4272-f94a-947ae7d78e9d"
      },
      "execution_count": 67,
      "outputs": [
        {
          "output_type": "execute_result",
          "data": {
            "text/plain": [
              "array(['Ankle boot', 'Pullover', 'Trouser'], dtype='<U11')"
            ]
          },
          "metadata": {},
          "execution_count": 67
        }
      ]
    },
    {
      "cell_type": "code",
      "source": [
        "plt.figure(figsize=(7.2, 2.4))\n",
        "for index, image in enumerate(X_new):\n",
        "    plt.subplot(1, 3, index + 1)\n",
        "    plt.imshow(image, cmap=\"binary\", interpolation=\"nearest\")\n",
        "    plt.axis('off')\n",
        "    plt.title(class_names[y_test[index]], fontsize=12)\n",
        "plt.subplots_adjust(wspace=0.2, hspace=0.5)\n",
        "plt.show()"
      ],
      "metadata": {
        "colab": {
          "base_uri": "https://localhost:8080/",
          "height": 223
        },
        "id": "Bxe5brMN1IBK",
        "outputId": "c7a2a208-a06d-45eb-d174-5bbcf860526e"
      },
      "execution_count": 68,
      "outputs": [
        {
          "output_type": "display_data",
          "data": {
            "text/plain": [
              "<Figure size 720x240 with 3 Axes>"
            ],
            "image/png": "[encoded data removed]"
          },
          "metadata": {}
        }
      ]
    },
    {
      "cell_type": "markdown",
      "source": [
        "### Construindo uma MLP de regressão usando Keras"
      ],
      "metadata": {
        "id": "n6uoJPJ21ZT4"
      }
    },
    {
      "cell_type": "code",
      "source": [
        "from sklearn.datasets import fetch_california_housing\n",
        "from sklearn.model_selection import train_test_split\n",
        "from sklearn.preprocessing import StandardScaler\n",
        "\n",
        "housing = fetch_california_housing()\n",
        "X_train_full, X_test, y_train_full, y_test = train_test_split(\n",
        "    housing.data, housing.target)\n",
        "\n",
        "X_train, X_valid, y_train, y_valid = train_test_split(\n",
        "    X_train_full, y_train_full)\n",
        "\n",
        "scaler = StandardScaler()\n",
        "X_train = scaler.fit_transform(X_train)\n",
        "X_valid = scaler.fit_transform(X_valid)\n",
        "X_test = scaler.fit_transform(X_test)"
      ],
      "metadata": {
        "id": "wYkuRqdf1U7t"
      },
      "execution_count": 69,
      "outputs": []
    },
    {
      "cell_type": "code",
      "source": [
        "# Criando, treinando, avaliando e usando uma MLP de regressão\n",
        "\n",
        "model = keras.models.Sequential([\n",
        "    keras.layers.Dense(30, activation=\"relu\", input_shape=X_train.shape[1:]),\n",
        "    keras.layers.Dense(1)\n",
        "])\n",
        "\n",
        "model.compile(loss=keras.losses.mean_squared_error, optimizer=\"sgd\")\n",
        "history = model.fit(X_train, y_train, epochs=20,\n",
        "                    validation_data=(X_valid, y_valid))"
      ],
      "metadata": {
        "colab": {
          "base_uri": "https://localhost:8080/"
        },
        "id": "zmdqbih9Tq3P",
        "outputId": "1ce28abb-507f-4708-e23e-546f23705506"
      },
      "execution_count": 70,
      "outputs": [
        {
          "output_type": "stream",
          "name": "stdout",
          "text": [
            "Epoch 1/20\n",
            "363/363 [==============================] - 2s 4ms/step - loss: 0.8757 - val_loss: 1.3735\n",
            "Epoch 2/20\n",
            "363/363 [==============================] - 1s 3ms/step - loss: 1.2942 - val_loss: 0.4445\n",
            "Epoch 3/20\n",
            "363/363 [==============================] - 1s 4ms/step - loss: 0.4122 - val_loss: 0.4122\n",
            "Epoch 4/20\n",
            "363/363 [==============================] - 1s 4ms/step - loss: 0.3940 - val_loss: 0.4012\n",
            "Epoch 5/20\n",
            "363/363 [==============================] - 1s 4ms/step - loss: 0.3830 - val_loss: 0.3870\n",
            "Epoch 6/20\n",
            "363/363 [==============================] - 1s 4ms/step - loss: 0.3718 - val_loss: 0.3722\n",
            "Epoch 7/20\n",
            "363/363 [==============================] - 1s 3ms/step - loss: 0.3656 - val_loss: 0.3704\n",
            "Epoch 8/20\n",
            "363/363 [==============================] - 1s 4ms/step - loss: 0.3729 - val_loss: 0.3719\n",
            "Epoch 9/20\n",
            "363/363 [==============================] - 2s 4ms/step - loss: 0.3588 - val_loss: 0.3611\n",
            "Epoch 10/20\n",
            "363/363 [==============================] - 2s 5ms/step - loss: 0.3495 - val_loss: 0.3699\n",
            "Epoch 11/20\n",
            "363/363 [==============================] - 1s 4ms/step - loss: 0.3586 - val_loss: 0.3644\n",
            "Epoch 12/20\n",
            "363/363 [==============================] - 1s 3ms/step - loss: 0.3462 - val_loss: 0.3527\n",
            "Epoch 13/20\n",
            "363/363 [==============================] - 1s 4ms/step - loss: 0.3411 - val_loss: 0.3479\n",
            "Epoch 14/20\n",
            "363/363 [==============================] - 1s 3ms/step - loss: 0.3431 - val_loss: 0.3567\n",
            "Epoch 15/20\n",
            "363/363 [==============================] - 1s 3ms/step - loss: 0.3533 - val_loss: 0.3602\n",
            "Epoch 16/20\n",
            "363/363 [==============================] - 1s 3ms/step - loss: 0.3391 - val_loss: 0.3521\n",
            "Epoch 17/20\n",
            "363/363 [==============================] - 1s 4ms/step - loss: 0.3348 - val_loss: 0.3435\n",
            "Epoch 18/20\n",
            "363/363 [==============================] - 1s 3ms/step - loss: 0.3315 - val_loss: 0.3426\n",
            "Epoch 19/20\n",
            "363/363 [==============================] - 2s 4ms/step - loss: 0.3295 - val_loss: 0.3400\n",
            "Epoch 20/20\n",
            "363/363 [==============================] - 2s 5ms/step - loss: 0.3268 - val_loss: 0.3387\n"
          ]
        }
      ]
    },
    {
      "cell_type": "code",
      "source": [
        "mse_test = model.evaluate(X_test, y_test)\n",
        "X_new = X_test[:3]\n",
        "y_pred = model.predict(X_new)\n",
        "y_pred"
      ],
      "metadata": {
        "colab": {
          "base_uri": "https://localhost:8080/"
        },
        "id": "ReGA7ejeWAMT",
        "outputId": "389cde30-5a6d-4bcf-c16e-3c2d62a423ec"
      },
      "execution_count": 71,
      "outputs": [
        {
          "output_type": "stream",
          "name": "stdout",
          "text": [
            "162/162 [==============================] - 1s 3ms/step - loss: 0.4091\n",
            "1/1 [==============================] - 0s 46ms/step\n"
          ]
        },
        {
          "output_type": "execute_result",
          "data": {
            "text/plain": [
              "array([[1.1981219],\n",
              "       [3.6736743],\n",
              "       [1.0550848]], dtype=float32)"
            ]
          },
          "metadata": {},
          "execution_count": 71
        }
      ]
    },
    {
      "cell_type": "markdown",
      "source": [
        "Constrindo modelos complexos"
      ],
      "metadata": {
        "id": "bYABLIo2XUJU"
      }
    },
    {
      "cell_type": "code",
      "source": [
        "input_ = keras.layers.Input(shape=X_train.shape[1:])\n",
        "hidden1 = keras.layers.Dense(30, activation=\"relu\")(input_)\n",
        "hidden2 = keras.layers.Dense(30, activation=\"relu\")(hidden1)\n",
        "concat = keras.layers.Concatenate()([input_, hidden2])\n",
        "output = keras.layers.Dense(1)(concat)\n",
        "model = keras.Model(inputs=[input_], outputs=[output])"
      ],
      "metadata": {
        "id": "aBLiocZVWkk3"
      },
      "execution_count": 72,
      "outputs": []
    },
    {
      "cell_type": "code",
      "source": [
        "model.summary()"
      ],
      "metadata": {
        "colab": {
          "base_uri": "https://localhost:8080/"
        },
        "id": "UiKk1hRJaQ1Z",
        "outputId": "ebbb6319-aeb8-48fd-fee7-a641ba39b55d"
      },
      "execution_count": 73,
      "outputs": [
        {
          "output_type": "stream",
          "name": "stdout",
          "text": [
            "Model: \"model_2\"\n",
            "__________________________________________________________________________________________________\n",
            " Layer (type)                Output Shape                 Param #   Connected to                  \n",
            "==================================================================================================\n",
            " input_2 (InputLayer)        [(None, 8)]                  0         []                            \n",
            "                                                                                                  \n",
            " dense_25 (Dense)            (None, 30)                   270       ['input_2[0][0]']             \n",
            "                                                                                                  \n",
            " dense_26 (Dense)            (None, 30)                   930       ['dense_25[0][0]']            \n",
            "                                                                                                  \n",
            " concatenate_2 (Concatenate  (None, 38)                   0         ['input_2[0][0]',             \n",
            " )                                                                   'dense_26[0][0]']            \n",
            "                                                                                                  \n",
            " dense_27 (Dense)            (None, 1)                    39        ['concatenate_2[0][0]']       \n",
            "                                                                                                  \n",
            "==================================================================================================\n",
            "Total params: 1239 (4.84 KB)\n",
            "Trainable params: 1239 (4.84 KB)\n",
            "Non-trainable params: 0 (0.00 Byte)\n",
            "__________________________________________________________________________________________________\n"
          ]
        }
      ]
    },
    {
      "cell_type": "code",
      "source": [
        "model.compile(loss=\"mean_squared_error\", optimizer=keras.optimizers.SGD(learning_rate=1e-3))\n",
        "history = model.fit(X_train, y_train, epochs=20,\n",
        "                    validation_data=(X_valid, y_valid))\n",
        "mse_test = model.evaluate(X_test, y_test)\n",
        "y_pred = model.predict(X_new)"
      ],
      "metadata": {
        "colab": {
          "base_uri": "https://localhost:8080/"
        },
        "id": "hwkm4jLBaTUr",
        "outputId": "2b457fa8-64ce-4e1b-ac37-c2b67232d980"
      },
      "execution_count": 74,
      "outputs": [
        {
          "output_type": "stream",
          "name": "stdout",
          "text": [
            "Epoch 1/20\n",
            "363/363 [==============================] - 2s 4ms/step - loss: 1.7808 - val_loss: 0.6715\n",
            "Epoch 2/20\n",
            "363/363 [==============================] - 1s 4ms/step - loss: 0.6568 - val_loss: 0.5935\n",
            "Epoch 3/20\n",
            "363/363 [==============================] - 1s 4ms/step - loss: 0.6055 - val_loss: 0.5630\n",
            "Epoch 4/20\n",
            "363/363 [==============================] - 1s 4ms/step - loss: 0.5766 - val_loss: 0.5378\n",
            "Epoch 5/20\n",
            "363/363 [==============================] - 1s 4ms/step - loss: 0.5527 - val_loss: 0.5203\n",
            "Epoch 6/20\n",
            "363/363 [==============================] - 1s 4ms/step - loss: 0.5330 - val_loss: 0.5034\n",
            "Epoch 7/20\n",
            "363/363 [==============================] - 1s 4ms/step - loss: 0.5158 - val_loss: 0.4898\n",
            "Epoch 8/20\n",
            "363/363 [==============================] - 2s 5ms/step - loss: 0.5014 - val_loss: 0.4767\n",
            "Epoch 9/20\n",
            "363/363 [==============================] - 2s 4ms/step - loss: 0.4885 - val_loss: 0.4661\n",
            "Epoch 10/20\n",
            "363/363 [==============================] - 1s 4ms/step - loss: 0.4779 - val_loss: 0.4577\n",
            "Epoch 11/20\n",
            "363/363 [==============================] - 1s 4ms/step - loss: 0.4683 - val_loss: 0.4495\n",
            "Epoch 12/20\n",
            "363/363 [==============================] - 1s 4ms/step - loss: 0.4591 - val_loss: 0.4426\n",
            "Epoch 13/20\n",
            "363/363 [==============================] - 1s 3ms/step - loss: 0.4503 - val_loss: 0.4365\n",
            "Epoch 14/20\n",
            "363/363 [==============================] - 1s 4ms/step - loss: 0.4433 - val_loss: 0.4317\n",
            "Epoch 15/20\n",
            "363/363 [==============================] - 1s 4ms/step - loss: 0.4367 - val_loss: 0.4276\n",
            "Epoch 16/20\n",
            "363/363 [==============================] - 1s 4ms/step - loss: 0.4321 - val_loss: 0.4242\n",
            "Epoch 17/20\n",
            "363/363 [==============================] - 2s 5ms/step - loss: 0.4253 - val_loss: 0.4201\n",
            "Epoch 18/20\n",
            "363/363 [==============================] - 2s 5ms/step - loss: 0.4211 - val_loss: 0.4165\n",
            "Epoch 19/20\n",
            "363/363 [==============================] - 1s 4ms/step - loss: 0.4171 - val_loss: 0.4156\n",
            "Epoch 20/20\n",
            "363/363 [==============================] - 1s 4ms/step - loss: 0.4142 - val_loss: 0.4112\n",
            "162/162 [==============================] - 0s 2ms/step - loss: 0.4764\n",
            "1/1 [==============================] - 0s 54ms/step\n"
          ]
        }
      ]
    },
    {
      "cell_type": "code",
      "source": [
        "input_A = keras.layers.Input(shape=[5], name=\"wide_input\")\n",
        "input_B = keras.layers.Input(shape=[6], name=\"deep_input\")\n",
        "hidden1 = keras.layers.Dense(30, activation=\"relu\")(input_B)\n",
        "hidden2 = keras.layers.Dense(30, activation=\"relu\")(hidden1)\n",
        "concat = keras.layers.concatenate([input_A, hidden2])\n",
        "output = keras.layers.Dense(1, name=\"output\")(concat)\n",
        "model = keras.Model(inputs=[input_A, input_B], outputs=[output])"
      ],
      "metadata": {
        "id": "H-19U0-zaamu"
      },
      "execution_count": 75,
      "outputs": []
    },
    {
      "cell_type": "code",
      "source": [
        "model.compile(loss=\"mse\", optimizer=keras.optimizers.SGD(lr=1e-3))\n",
        "X_train_A, X_train_B = X_train[:, :5], X_train[:, 2:]\n",
        "X_valid_A, X_valid_B = X_valid[:, :5], X_valid[:, 2:]\n",
        "X_test_A, X_test_B = X_test[:, :5], X_test[:, 2:]\n",
        "X_new_A, X_new_B = X_test_A[:3], X_test_B[:3]\n",
        "\n",
        "history = model.fit((X_train_A, X_train_B), y_train, epochs=20,\n",
        "                    validation_data=((X_valid_A, X_valid_B), y_valid))\n",
        "mse_test = model.evaluate((X_test_A, X_test_B), y_test)\n",
        "y_pred = model.predict((X_new_A, X_new_B))"
      ],
      "metadata": {
        "colab": {
          "base_uri": "https://localhost:8080/"
        },
        "id": "fm2szUJg5Eb_",
        "outputId": "566717af-a8f8-4a53-af76-5ea7967c00b6"
      },
      "execution_count": 76,
      "outputs": [
        {
          "output_type": "stream",
          "name": "stderr",
          "text": [
            "WARNING:absl:`lr` is deprecated in Keras optimizer, please use `learning_rate` or use the legacy optimizer, e.g.,tf.keras.optimizers.legacy.SGD.\n"
          ]
        },
        {
          "output_type": "stream",
          "name": "stdout",
          "text": [
            "Epoch 1/20\n",
            "363/363 [==============================] - 2s 4ms/step - loss: 0.7943 - val_loss: 0.5326\n",
            "Epoch 2/20\n",
            "363/363 [==============================] - 1s 4ms/step - loss: 0.4684 - val_loss: 0.4415\n",
            "Epoch 3/20\n",
            "363/363 [==============================] - 1s 4ms/step - loss: 0.4310 - val_loss: 0.4210\n",
            "Epoch 4/20\n",
            "363/363 [==============================] - 1s 4ms/step - loss: 0.4165 - val_loss: 0.4258\n",
            "Epoch 5/20\n",
            "363/363 [==============================] - 2s 6ms/step - loss: 0.4112 - val_loss: 0.4089\n",
            "Epoch 6/20\n",
            "363/363 [==============================] - 2s 4ms/step - loss: 0.4224 - val_loss: 0.4251\n",
            "Epoch 7/20\n",
            "363/363 [==============================] - 1s 4ms/step - loss: 0.5448 - val_loss: 0.4215\n",
            "Epoch 8/20\n",
            "363/363 [==============================] - 2s 4ms/step - loss: 0.4281 - val_loss: 0.4009\n",
            "Epoch 9/20\n",
            "363/363 [==============================] - 1s 4ms/step - loss: 0.3922 - val_loss: 0.4036\n",
            "Epoch 10/20\n",
            "363/363 [==============================] - 2s 5ms/step - loss: 0.3860 - val_loss: 0.3918\n",
            "Epoch 11/20\n",
            "363/363 [==============================] - 3s 8ms/step - loss: 0.3837 - val_loss: 0.3789\n",
            "Epoch 12/20\n",
            "363/363 [==============================] - 4s 12ms/step - loss: 0.3756 - val_loss: 0.4374\n",
            "Epoch 13/20\n",
            "363/363 [==============================] - 1s 4ms/step - loss: 0.3711 - val_loss: 0.3754\n",
            "Epoch 14/20\n",
            "363/363 [==============================] - 1s 3ms/step - loss: 0.3686 - val_loss: 0.3711\n",
            "Epoch 15/20\n",
            "363/363 [==============================] - 2s 4ms/step - loss: 0.3629 - val_loss: 0.4178\n",
            "Epoch 16/20\n",
            "363/363 [==============================] - 1s 4ms/step - loss: 0.3687 - val_loss: 0.3680\n",
            "Epoch 17/20\n",
            "363/363 [==============================] - 1s 4ms/step - loss: 0.3557 - val_loss: 0.3710\n",
            "Epoch 18/20\n",
            "363/363 [==============================] - 1s 4ms/step - loss: 0.3548 - val_loss: 0.3745\n",
            "Epoch 19/20\n",
            "363/363 [==============================] - 1s 4ms/step - loss: 0.3627 - val_loss: 0.3759\n",
            "Epoch 20/20\n",
            "363/363 [==============================] - 4s 10ms/step - loss: 0.3551 - val_loss: 0.3657\n",
            "162/162 [==============================] - 1s 3ms/step - loss: 0.4334\n",
            "1/1 [==============================] - 0s 138ms/step\n"
          ]
        }
      ]
    },
    {
      "cell_type": "markdown",
      "source": [
        "Usando a subclassing API para construir modelos dinâmicos"
      ],
      "metadata": {
        "id": "C3U1bxSQ9PkO"
      }
    },
    {
      "cell_type": "code",
      "source": [
        "class WideAndDeepModel(keras.Model):\n",
        "\n",
        "  def __init__(self, units=30, activation=\"relu\", **kwargs):\n",
        "    super().__init__(**kwargs)\n",
        "    self.hidden1 = keras.layers.Dense(units, activation=activation)\n",
        "    self.hidden2 = keras.layers.Dense(units, activation=activation)\n",
        "    self.main_output = keras.layers.Dense(1)\n",
        "    self.aux_output = keras.layers.Dense(1)\n",
        "\n",
        "  def call(self, inputs):\n",
        "    input_A, input_B = inputs\n",
        "    hidden1 = self.hidden1(input_B)\n",
        "    hidden2 = self.hidden2(hidden1)\n",
        "    concat = keras.layers.concatenate([input_B, hidden2])\n",
        "    main_output = self.main_output(concat)\n",
        "    aux_output = self.aux_output(hidden2)\n",
        "    return main_output, aux_output\n",
        "\n",
        "model = WideAndDeepModel()"
      ],
      "metadata": {
        "id": "UNyZ5kqI7uG1"
      },
      "execution_count": 77,
      "outputs": []
    },
    {
      "cell_type": "code",
      "source": [
        "model.compile(loss=\"mse\", loss_weights=[0.9, 0.1], optimizer=keras.optimizers.SGD(learning_rate=1e-3))\n",
        "history = model.fit((X_train_A, X_train_B), (y_train, y_train), epochs=10,\n",
        "                    validation_data=((X_valid_A, X_valid_B), (y_valid, y_valid)))\n",
        "total_loss, main_loss, aux_loss = model.evaluate((X_test_A, X_test_B), (y_test, y_test))\n",
        "y_pred_main, y_pred_aux = model.predict((X_new_A, X_new_B))"
      ],
      "metadata": {
        "colab": {
          "base_uri": "https://localhost:8080/"
        },
        "id": "ULw9y_ERvGBT",
        "outputId": "54cf5476-dc48-4ef0-ab10-c8b58cb9dadb"
      },
      "execution_count": 78,
      "outputs": [
        {
          "output_type": "stream",
          "name": "stdout",
          "text": [
            "Epoch 1/10\n",
            "363/363 [==============================] - 3s 5ms/step - loss: 2.8047 - output_1_loss: 2.3900 - output_2_loss: 6.5375 - val_loss: 1.5668 - val_output_1_loss: 1.1812 - val_output_2_loss: 5.0368\n",
            "Epoch 2/10\n",
            "363/363 [==============================] - 2s 5ms/step - loss: 1.4215 - output_1_loss: 1.1424 - output_2_loss: 3.9336 - val_loss: 1.2333 - val_output_1_loss: 1.0366 - val_output_2_loss: 3.0032\n",
            "Epoch 3/10\n",
            "363/363 [==============================] - 3s 7ms/step - loss: 1.1715 - output_1_loss: 1.0276 - output_2_loss: 2.4668 - val_loss: 1.0546 - val_output_1_loss: 0.9526 - val_output_2_loss: 1.9731\n",
            "Epoch 4/10\n",
            "363/363 [==============================] - 2s 6ms/step - loss: 1.0295 - output_1_loss: 0.9507 - output_2_loss: 1.7393 - val_loss: 0.9494 - val_output_1_loss: 0.8900 - val_output_2_loss: 1.4848\n",
            "Epoch 5/10\n",
            "363/363 [==============================] - 2s 5ms/step - loss: 0.9389 - output_1_loss: 0.8886 - output_2_loss: 1.3908 - val_loss: 0.8811 - val_output_1_loss: 0.8405 - val_output_2_loss: 1.2462\n",
            "Epoch 6/10\n",
            "363/363 [==============================] - 2s 5ms/step - loss: 0.8784 - output_1_loss: 0.8405 - output_2_loss: 1.2192 - val_loss: 0.8436 - val_output_1_loss: 0.8128 - val_output_2_loss: 1.1210\n",
            "Epoch 7/10\n",
            "363/363 [==============================] - 2s 5ms/step - loss: 0.8380 - output_1_loss: 0.8066 - output_2_loss: 1.1206 - val_loss: 0.8121 - val_output_1_loss: 0.7857 - val_output_2_loss: 1.0502\n",
            "Epoch 8/10\n",
            "363/363 [==============================] - 3s 7ms/step - loss: 0.8063 - output_1_loss: 0.7781 - output_2_loss: 1.0608 - val_loss: 0.7908 - val_output_1_loss: 0.7670 - val_output_2_loss: 1.0048\n",
            "Epoch 9/10\n",
            "363/363 [==============================] - 2s 5ms/step - loss: 0.7828 - output_1_loss: 0.7566 - output_2_loss: 1.0186 - val_loss: 0.7765 - val_output_1_loss: 0.7554 - val_output_2_loss: 0.9668\n",
            "Epoch 10/10\n",
            "363/363 [==============================] - 3s 7ms/step - loss: 0.7632 - output_1_loss: 0.7389 - output_2_loss: 0.9818 - val_loss: 0.7632 - val_output_1_loss: 0.7435 - val_output_2_loss: 0.9397\n",
            "162/162 [==============================] - 1s 6ms/step - loss: 0.8022 - output_1_loss: 0.7796 - output_2_loss: 1.0053\n",
            "1/1 [==============================] - 0s 354ms/step\n"
          ]
        }
      ]
    },
    {
      "cell_type": "markdown",
      "source": [
        "Salvando e armazenando um modelo"
      ],
      "metadata": {
        "id": "Qdp9TFrTv9hk"
      }
    },
    {
      "cell_type": "code",
      "source": [
        "model = keras.models.Sequential([\n",
        "    keras.layers.Dense(30, activation=\"relu\", input_shape=[8]),\n",
        "    keras.layers.Dense(30, activation=\"relu\"),\n",
        "    keras.layers.Dense(1)\n",
        "])\n",
        "model.compile(loss=\"mse\", optimizer=keras.optimizers.SGD(learning_rate=1e-3))\n",
        "history = model.fit(X_train, y_train, epochs=10, validation_data=(X_valid, y_valid))\n",
        "mse_test = model.evaluate(X_test, y_test)\n",
        "\n",
        "model.save(\"my_keras_model.h5\")"
      ],
      "metadata": {
        "colab": {
          "base_uri": "https://localhost:8080/"
        },
        "id": "aXTtVcHZvwki",
        "outputId": "f17e9346-9660-4547-ca8b-a6979a29bab0"
      },
      "execution_count": 79,
      "outputs": [
        {
          "output_type": "stream",
          "name": "stdout",
          "text": [
            "Epoch 1/10\n",
            "363/363 [==============================] - 4s 7ms/step - loss: 1.7545 - val_loss: 1.0165\n",
            "Epoch 2/10\n",
            "363/363 [==============================] - 3s 7ms/step - loss: 0.8511 - val_loss: 0.7103\n",
            "Epoch 3/10\n",
            "363/363 [==============================] - 1s 4ms/step - loss: 0.7071 - val_loss: 0.6346\n",
            "Epoch 4/10\n",
            "363/363 [==============================] - 1s 3ms/step - loss: 0.6383 - val_loss: 0.5891\n",
            "Epoch 5/10\n",
            "363/363 [==============================] - 1s 4ms/step - loss: 0.5947 - val_loss: 0.5540\n",
            "Epoch 6/10\n",
            "363/363 [==============================] - 1s 4ms/step - loss: 0.5627 - val_loss: 0.5244\n",
            "Epoch 7/10\n",
            "363/363 [==============================] - 1s 4ms/step - loss: 0.5360 - val_loss: 0.5006\n",
            "Epoch 8/10\n",
            "363/363 [==============================] - 2s 5ms/step - loss: 0.5167 - val_loss: 0.4879\n",
            "Epoch 9/10\n",
            "363/363 [==============================] - 2s 5ms/step - loss: 0.4980 - val_loss: 0.4748\n",
            "Epoch 10/10\n",
            "363/363 [==============================] - 1s 4ms/step - loss: 0.4839 - val_loss: 0.4620\n",
            "162/162 [==============================] - 0s 2ms/step - loss: 0.5341\n"
          ]
        },
        {
          "output_type": "stream",
          "name": "stderr",
          "text": [
            "/usr/local/lib/python3.10/dist-packages/keras/src/engine/training.py:3103: UserWarning: You are saving your model as an HDF5 file via `model.save()`. This file format is considered legacy. We recommend using instead the native Keras format, e.g. `model.save('my_model.keras')`.\n",
            "  saving_api.save_model(\n"
          ]
        }
      ]
    },
    {
      "cell_type": "code",
      "source": [
        "model = keras.models.load_model(\"my_keras_model.h5\")\n",
        "model.predict(X_new)"
      ],
      "metadata": {
        "colab": {
          "base_uri": "https://localhost:8080/"
        },
        "id": "fGs73u6PxNEV",
        "outputId": "ec359e00-03eb-40a4-cf31-1f343630cb5b"
      },
      "execution_count": 80,
      "outputs": [
        {
          "output_type": "stream",
          "name": "stdout",
          "text": [
            "1/1 [==============================] - 0s 63ms/step\n"
          ]
        },
        {
          "output_type": "execute_result",
          "data": {
            "text/plain": [
              "array([[1.0038451],\n",
              "       [3.3607264],\n",
              "       [0.9537335]], dtype=float32)"
            ]
          },
          "metadata": {},
          "execution_count": 80
        }
      ]
    },
    {
      "cell_type": "markdown",
      "source": [
        "Usando funcções de callbacks"
      ],
      "metadata": {
        "id": "UNn3JpvixvzS"
      }
    },
    {
      "cell_type": "code",
      "source": [
        "model.compile(loss=\"mse\", optimizer=keras.optimizers.SGD(learning_rate=1e-3))\n",
        "checkpoint_cb = keras.callbacks.ModelCheckpoint(\"my_keras_model.h5\", save_best_only=True)\n",
        "history = model.fit(X_train, y_train, epochs=10,\n",
        "                    validation_data=(X_valid, y_valid),\n",
        "                    callbacks=[checkpoint_cb])\n",
        "model = keras.models.load_model(\"my_keras_model.h5\")\n",
        "mse_test = model.evaluate(X_test, y_test)"
      ],
      "metadata": {
        "colab": {
          "base_uri": "https://localhost:8080/"
        },
        "id": "8JMmCh54xUXe",
        "outputId": "585dfe2e-c85b-4158-8443-d869c186e291"
      },
      "execution_count": 81,
      "outputs": [
        {
          "output_type": "stream",
          "name": "stdout",
          "text": [
            "Epoch 1/10\n",
            "363/363 [==============================] - 2s 4ms/step - loss: 0.4714 - val_loss: 0.4559\n",
            "Epoch 2/10\n",
            "363/363 [==============================] - 1s 4ms/step - loss: 0.4613 - val_loss: 0.4465\n",
            "Epoch 3/10\n",
            "363/363 [==============================] - 1s 4ms/step - loss: 0.4526 - val_loss: 0.4404\n",
            "Epoch 4/10\n",
            "363/363 [==============================] - 1s 4ms/step - loss: 0.4457 - val_loss: 0.4376\n",
            "Epoch 5/10\n",
            "363/363 [==============================] - 1s 4ms/step - loss: 0.4388 - val_loss: 0.4300\n",
            "Epoch 6/10\n",
            "363/363 [==============================] - 2s 5ms/step - loss: 0.4335 - val_loss: 0.4285\n",
            "Epoch 7/10\n",
            "363/363 [==============================] - 3s 8ms/step - loss: 0.4294 - val_loss: 0.4260\n",
            "Epoch 8/10\n",
            "363/363 [==============================] - 2s 5ms/step - loss: 0.4238 - val_loss: 0.4200\n",
            "Epoch 9/10\n",
            "363/363 [==============================] - 1s 4ms/step - loss: 0.4201 - val_loss: 0.4203\n",
            "Epoch 10/10\n",
            "363/363 [==============================] - 1s 4ms/step - loss: 0.4156 - val_loss: 0.4148\n",
            "162/162 [==============================] - 0s 2ms/step - loss: 0.4771\n"
          ]
        }
      ]
    },
    {
      "cell_type": "code",
      "source": [
        "# early stopping\n",
        "\n",
        "model.compile(loss=\"mse\", optimizer=keras.optimizers.SGD(learning_rate=1e-3))\n",
        "early_stopping_cb = keras.callbacks.EarlyStopping(patience=10,\n",
        "                                                  restore_best_weights=True)\n",
        "history = model.fit(X_train, y_train, epochs=100,\n",
        "                    validation_data=(X_valid, y_valid),\n",
        "                    callbacks=[checkpoint_cb, early_stopping_cb])\n",
        "mse_test = model.evaluate(X_test, y_test)"
      ],
      "metadata": {
        "colab": {
          "base_uri": "https://localhost:8080/"
        },
        "id": "15I5nQREz6fF",
        "outputId": "5c81162f-132c-4a03-eaa1-6c6232e577e8"
      },
      "execution_count": 82,
      "outputs": [
        {
          "output_type": "stream",
          "name": "stdout",
          "text": [
            "Epoch 1/100\n",
            "363/363 [==============================] - 3s 6ms/step - loss: 0.4116 - val_loss: 0.4150\n",
            "Epoch 2/100\n",
            "363/363 [==============================] - 1s 3ms/step - loss: 0.4079 - val_loss: 0.4111\n",
            "Epoch 3/100\n",
            "363/363 [==============================] - 1s 4ms/step - loss: 0.4059 - val_loss: 0.4087\n",
            "Epoch 4/100\n",
            "363/363 [==============================] - 1s 4ms/step - loss: 0.4024 - val_loss: 0.4055\n",
            "Epoch 5/100\n",
            "363/363 [==============================] - 1s 4ms/step - loss: 0.4004 - val_loss: 0.4064\n",
            "Epoch 6/100\n",
            "363/363 [==============================] - 1s 4ms/step - loss: 0.3974 - val_loss: 0.4020\n",
            "Epoch 7/100\n",
            "363/363 [==============================] - 1s 4ms/step - loss: 0.3958 - val_loss: 0.4017\n",
            "Epoch 8/100\n",
            "363/363 [==============================] - 1s 4ms/step - loss: 0.3938 - val_loss: 0.3988\n",
            "Epoch 9/100\n",
            "363/363 [==============================] - 2s 5ms/step - loss: 0.3906 - val_loss: 0.3971\n",
            "Epoch 10/100\n",
            "363/363 [==============================] - 2s 5ms/step - loss: 0.3901 - val_loss: 0.3983\n",
            "Epoch 11/100\n",
            "363/363 [==============================] - 1s 4ms/step - loss: 0.3881 - val_loss: 0.3946\n",
            "Epoch 12/100\n",
            "363/363 [==============================] - 1s 3ms/step - loss: 0.3861 - val_loss: 0.3951\n",
            "Epoch 13/100\n",
            "363/363 [==============================] - 1s 4ms/step - loss: 0.3845 - val_loss: 0.3922\n",
            "Epoch 14/100\n",
            "363/363 [==============================] - 1s 4ms/step - loss: 0.3832 - val_loss: 0.3884\n",
            "Epoch 15/100\n",
            "363/363 [==============================] - 1s 3ms/step - loss: 0.3812 - val_loss: 0.3899\n",
            "Epoch 16/100\n",
            "363/363 [==============================] - 1s 4ms/step - loss: 0.3809 - val_loss: 0.3881\n",
            "Epoch 17/100\n",
            "363/363 [==============================] - 1s 4ms/step - loss: 0.3795 - val_loss: 0.3865\n",
            "Epoch 18/100\n",
            "363/363 [==============================] - 2s 5ms/step - loss: 0.3781 - val_loss: 0.3838\n",
            "Epoch 19/100\n",
            "363/363 [==============================] - 2s 5ms/step - loss: 0.3764 - val_loss: 0.3835\n",
            "Epoch 20/100\n",
            "363/363 [==============================] - 1s 4ms/step - loss: 0.3760 - val_loss: 0.3821\n",
            "Epoch 21/100\n",
            "363/363 [==============================] - 1s 4ms/step - loss: 0.3750 - val_loss: 0.3823\n",
            "Epoch 22/100\n",
            "363/363 [==============================] - 1s 3ms/step - loss: 0.3738 - val_loss: 0.3830\n",
            "Epoch 23/100\n",
            "363/363 [==============================] - 1s 4ms/step - loss: 0.3729 - val_loss: 0.3808\n",
            "Epoch 24/100\n",
            "363/363 [==============================] - 1s 3ms/step - loss: 0.3718 - val_loss: 0.3820\n",
            "Epoch 25/100\n",
            "363/363 [==============================] - 1s 4ms/step - loss: 0.3706 - val_loss: 0.3805\n",
            "Epoch 26/100\n",
            "363/363 [==============================] - 1s 4ms/step - loss: 0.3696 - val_loss: 0.3791\n",
            "Epoch 27/100\n",
            "363/363 [==============================] - 2s 5ms/step - loss: 0.3689 - val_loss: 0.3773\n",
            "Epoch 28/100\n",
            "363/363 [==============================] - 2s 6ms/step - loss: 0.3680 - val_loss: 0.3780\n",
            "Epoch 29/100\n",
            "363/363 [==============================] - 1s 3ms/step - loss: 0.3669 - val_loss: 0.3776\n",
            "Epoch 30/100\n",
            "363/363 [==============================] - 1s 4ms/step - loss: 0.3661 - val_loss: 0.3753\n",
            "Epoch 31/100\n",
            "363/363 [==============================] - 1s 4ms/step - loss: 0.3653 - val_loss: 0.3741\n",
            "Epoch 32/100\n",
            "363/363 [==============================] - 1s 4ms/step - loss: 0.3643 - val_loss: 0.3732\n",
            "Epoch 33/100\n",
            "363/363 [==============================] - 1s 4ms/step - loss: 0.3641 - val_loss: 0.3720\n",
            "Epoch 34/100\n",
            "363/363 [==============================] - 1s 4ms/step - loss: 0.3629 - val_loss: 0.3735\n",
            "Epoch 35/100\n",
            "363/363 [==============================] - 1s 3ms/step - loss: 0.3619 - val_loss: 0.3721\n",
            "Epoch 36/100\n",
            "363/363 [==============================] - 2s 5ms/step - loss: 0.3613 - val_loss: 0.3704\n",
            "Epoch 37/100\n",
            "363/363 [==============================] - 2s 5ms/step - loss: 0.3607 - val_loss: 0.3725\n",
            "Epoch 38/100\n",
            "363/363 [==============================] - 2s 5ms/step - loss: 0.3598 - val_loss: 0.3709\n",
            "Epoch 39/100\n",
            "363/363 [==============================] - 1s 4ms/step - loss: 0.3592 - val_loss: 0.3706\n",
            "Epoch 40/100\n",
            "363/363 [==============================] - 1s 4ms/step - loss: 0.3583 - val_loss: 0.3679\n",
            "Epoch 41/100\n",
            "363/363 [==============================] - 1s 4ms/step - loss: 0.3580 - val_loss: 0.3675\n",
            "Epoch 42/100\n",
            "363/363 [==============================] - 1s 4ms/step - loss: 0.3571 - val_loss: 0.3676\n",
            "Epoch 43/100\n",
            "363/363 [==============================] - 1s 3ms/step - loss: 0.3566 - val_loss: 0.3673\n",
            "Epoch 44/100\n",
            "363/363 [==============================] - 2s 5ms/step - loss: 0.3557 - val_loss: 0.3665\n",
            "Epoch 45/100\n",
            "363/363 [==============================] - 2s 5ms/step - loss: 0.3554 - val_loss: 0.3660\n",
            "Epoch 46/100\n",
            "363/363 [==============================] - 2s 5ms/step - loss: 0.3544 - val_loss: 0.3670\n",
            "Epoch 47/100\n",
            "363/363 [==============================] - 1s 4ms/step - loss: 0.3538 - val_loss: 0.3642\n",
            "Epoch 48/100\n",
            "363/363 [==============================] - 2s 4ms/step - loss: 0.3530 - val_loss: 0.3662\n",
            "Epoch 49/100\n",
            "363/363 [==============================] - 2s 4ms/step - loss: 0.3523 - val_loss: 0.3662\n",
            "Epoch 50/100\n",
            "363/363 [==============================] - 1s 4ms/step - loss: 0.3517 - val_loss: 0.3639\n",
            "Epoch 51/100\n",
            "363/363 [==============================] - 1s 4ms/step - loss: 0.3513 - val_loss: 0.3646\n",
            "Epoch 52/100\n",
            "363/363 [==============================] - 1s 4ms/step - loss: 0.3506 - val_loss: 0.3611\n",
            "Epoch 53/100\n",
            "363/363 [==============================] - 2s 6ms/step - loss: 0.3498 - val_loss: 0.3631\n",
            "Epoch 54/100\n",
            "363/363 [==============================] - 2s 5ms/step - loss: 0.3490 - val_loss: 0.3615\n",
            "Epoch 55/100\n",
            "363/363 [==============================] - 1s 4ms/step - loss: 0.3483 - val_loss: 0.3617\n",
            "Epoch 56/100\n",
            "363/363 [==============================] - 1s 4ms/step - loss: 0.3480 - val_loss: 0.3632\n",
            "Epoch 57/100\n",
            "363/363 [==============================] - 1s 4ms/step - loss: 0.3474 - val_loss: 0.3586\n",
            "Epoch 58/100\n",
            "363/363 [==============================] - 1s 4ms/step - loss: 0.3466 - val_loss: 0.3618\n",
            "Epoch 59/100\n",
            "363/363 [==============================] - 1s 4ms/step - loss: 0.3463 - val_loss: 0.3579\n",
            "Epoch 60/100\n",
            "363/363 [==============================] - 1s 4ms/step - loss: 0.3456 - val_loss: 0.3614\n",
            "Epoch 61/100\n",
            "363/363 [==============================] - 1s 3ms/step - loss: 0.3455 - val_loss: 0.3581\n",
            "Epoch 62/100\n",
            "363/363 [==============================] - 2s 5ms/step - loss: 0.3446 - val_loss: 0.3592\n",
            "Epoch 63/100\n",
            "363/363 [==============================] - 2s 5ms/step - loss: 0.3443 - val_loss: 0.3590\n",
            "Epoch 64/100\n",
            "363/363 [==============================] - 1s 4ms/step - loss: 0.3431 - val_loss: 0.3593\n",
            "Epoch 65/100\n",
            "363/363 [==============================] - 1s 3ms/step - loss: 0.3430 - val_loss: 0.3556\n",
            "Epoch 66/100\n",
            "363/363 [==============================] - 1s 4ms/step - loss: 0.3422 - val_loss: 0.3546\n",
            "Epoch 67/100\n",
            "363/363 [==============================] - 1s 4ms/step - loss: 0.3417 - val_loss: 0.3575\n",
            "Epoch 68/100\n",
            "363/363 [==============================] - 1s 4ms/step - loss: 0.3414 - val_loss: 0.3564\n",
            "Epoch 69/100\n",
            "363/363 [==============================] - 2s 4ms/step - loss: 0.3407 - val_loss: 0.3560\n",
            "Epoch 70/100\n",
            "363/363 [==============================] - 1s 4ms/step - loss: 0.3404 - val_loss: 0.3550\n",
            "Epoch 71/100\n",
            "363/363 [==============================] - 2s 4ms/step - loss: 0.3399 - val_loss: 0.3534\n",
            "Epoch 72/100\n",
            "363/363 [==============================] - 2s 5ms/step - loss: 0.3394 - val_loss: 0.3518\n",
            "Epoch 73/100\n",
            "363/363 [==============================] - 2s 5ms/step - loss: 0.3384 - val_loss: 0.3550\n",
            "Epoch 74/100\n",
            "363/363 [==============================] - 1s 4ms/step - loss: 0.3381 - val_loss: 0.3515\n",
            "Epoch 75/100\n",
            "363/363 [==============================] - 1s 4ms/step - loss: 0.3381 - val_loss: 0.3539\n",
            "Epoch 76/100\n",
            "363/363 [==============================] - 1s 4ms/step - loss: 0.3378 - val_loss: 0.3530\n",
            "Epoch 77/100\n",
            "363/363 [==============================] - 1s 4ms/step - loss: 0.3372 - val_loss: 0.3511\n",
            "Epoch 78/100\n",
            "363/363 [==============================] - 1s 3ms/step - loss: 0.3370 - val_loss: 0.3512\n",
            "Epoch 79/100\n",
            "363/363 [==============================] - 1s 4ms/step - loss: 0.3365 - val_loss: 0.3511\n",
            "Epoch 80/100\n",
            "363/363 [==============================] - 2s 4ms/step - loss: 0.3358 - val_loss: 0.3506\n",
            "Epoch 81/100\n",
            "363/363 [==============================] - 2s 5ms/step - loss: 0.3356 - val_loss: 0.3507\n",
            "Epoch 82/100\n",
            "363/363 [==============================] - 2s 4ms/step - loss: 0.3351 - val_loss: 0.3507\n",
            "Epoch 83/100\n",
            "363/363 [==============================] - 1s 4ms/step - loss: 0.3348 - val_loss: 0.3494\n",
            "Epoch 84/100\n",
            "363/363 [==============================] - 1s 4ms/step - loss: 0.3346 - val_loss: 0.3492\n",
            "Epoch 85/100\n",
            "363/363 [==============================] - 1s 4ms/step - loss: 0.3342 - val_loss: 0.3499\n",
            "Epoch 86/100\n",
            "363/363 [==============================] - 1s 4ms/step - loss: 0.3336 - val_loss: 0.3491\n",
            "Epoch 87/100\n",
            "363/363 [==============================] - 1s 4ms/step - loss: 0.3333 - val_loss: 0.3497\n",
            "Epoch 88/100\n",
            "363/363 [==============================] - 1s 4ms/step - loss: 0.3331 - val_loss: 0.3483\n",
            "Epoch 89/100\n",
            "363/363 [==============================] - 2s 4ms/step - loss: 0.3326 - val_loss: 0.3496\n",
            "Epoch 90/100\n",
            "363/363 [==============================] - 2s 5ms/step - loss: 0.3324 - val_loss: 0.3484\n",
            "Epoch 91/100\n",
            "363/363 [==============================] - 2s 5ms/step - loss: 0.3321 - val_loss: 0.3477\n",
            "Epoch 92/100\n",
            "363/363 [==============================] - 2s 5ms/step - loss: 0.3320 - val_loss: 0.3478\n",
            "Epoch 93/100\n",
            "363/363 [==============================] - 2s 5ms/step - loss: 0.3315 - val_loss: 0.3464\n",
            "Epoch 94/100\n",
            "363/363 [==============================] - 1s 3ms/step - loss: 0.3313 - val_loss: 0.3490\n",
            "Epoch 95/100\n",
            "363/363 [==============================] - 1s 4ms/step - loss: 0.3310 - val_loss: 0.3470\n",
            "Epoch 96/100\n",
            "363/363 [==============================] - 1s 4ms/step - loss: 0.3305 - val_loss: 0.3467\n",
            "Epoch 97/100\n",
            "363/363 [==============================] - 1s 3ms/step - loss: 0.3300 - val_loss: 0.3454\n",
            "Epoch 98/100\n",
            "363/363 [==============================] - 2s 5ms/step - loss: 0.3300 - val_loss: 0.3478\n",
            "Epoch 99/100\n",
            "363/363 [==============================] - 2s 5ms/step - loss: 0.3296 - val_loss: 0.3453\n",
            "Epoch 100/100\n",
            "363/363 [==============================] - 1s 4ms/step - loss: 0.3295 - val_loss: 0.3450\n",
            "162/162 [==============================] - 0s 2ms/step - loss: 0.4118\n"
          ]
        }
      ]
    },
    {
      "cell_type": "code",
      "source": [
        "class PrintValTrainRatioCallback(keras.callbacks.Callback):\n",
        "    def on_epoch_end(self, epoch, logs):\n",
        "        print(\"\\nval/train: {:.2f}\".format(logs[\"val_loss\"] / logs[\"loss\"]))"
      ],
      "metadata": {
        "id": "M4fU82ht0ckZ"
      },
      "execution_count": 83,
      "outputs": []
    },
    {
      "cell_type": "code",
      "source": [
        "val_train_ratio_cb = PrintValTrainRatioCallback()\n",
        "history = model.fit(X_train, y_train, epochs=1,\n",
        "                    validation_data=(X_valid, y_valid),\n",
        "                    callbacks=[val_train_ratio_cb])"
      ],
      "metadata": {
        "colab": {
          "base_uri": "https://localhost:8080/"
        },
        "id": "lftn72DW093N",
        "outputId": "c876608d-775e-4976-a8e8-031155e2c388"
      },
      "execution_count": 84,
      "outputs": [
        {
          "output_type": "stream",
          "name": "stdout",
          "text": [
            "360/363 [============================>.] - ETA: 0s - loss: 0.3297\n",
            "val/train: 1.05\n",
            "363/363 [==============================] - 1s 4ms/step - loss: 0.3290 - val_loss: 0.3460\n"
          ]
        }
      ]
    },
    {
      "cell_type": "markdown",
      "source": [
        "Usando o TensorBoard para visualização"
      ],
      "metadata": {
        "id": "Y88T0h6U1Doh"
      }
    },
    {
      "cell_type": "code",
      "source": [
        "import os\n",
        "root_logdir = os.path.join(os.curdir, \"my_logs\")\n",
        "\n",
        "def get_run_logdir():\n",
        "    import time\n",
        "    run_id = time.strftime(\"run_%Y_%m_%d-%H_%M_%S\")\n",
        "    return os.path.join(root_logdir, run_id)\n",
        "\n",
        "run_logdir = get_run_logdir()\n",
        "run_logdir"
      ],
      "metadata": {
        "colab": {
          "base_uri": "https://localhost:8080/",
          "height": 35
        },
        "id": "_iVaq9dm1AIY",
        "outputId": "fd6e239e-8eb3-4c32-b8c3-cad68f3aa27d"
      },
      "execution_count": 85,
      "outputs": [
        {
          "output_type": "execute_result",
          "data": {
            "text/plain": [
              "'./my_logs/run_2024_01_11-22_25_41'"
            ],
            "application/vnd.google.colaboratory.intrinsic+json": {
              "type": "string"
            }
          },
          "metadata": {},
          "execution_count": 85
        }
      ]
    },
    {
      "cell_type": "code",
      "source": [
        "model = keras.models.Sequential([\n",
        "    keras.layers.Dense(30, activation=\"relu\", input_shape=[8]),\n",
        "    keras.layers.Dense(30, activation=\"relu\"),\n",
        "    keras.layers.Dense(1)\n",
        "])\n",
        "model.compile(loss=\"mse\", optimizer=keras.optimizers.SGD(learning_rate=1e-3))\n",
        "tensorboard_cb = keras.callbacks.TensorBoard(run_logdir)\n",
        "histoty = model.fit(X_train, y_train, epochs=30,\n",
        "                    validation_data=(X_valid, y_valid),\n",
        "                    callbacks=[tensorboard_cb])"
      ],
      "metadata": {
        "colab": {
          "base_uri": "https://localhost:8080/"
        },
        "id": "vlMz8GVvBR3n",
        "outputId": "fe0571b6-15a8-48ea-f402-220851fd8055"
      },
      "execution_count": 86,
      "outputs": [
        {
          "output_type": "stream",
          "name": "stdout",
          "text": [
            "Epoch 1/30\n",
            "363/363 [==============================] - 2s 4ms/step - loss: 2.3888 - val_loss: 1.1407\n",
            "Epoch 2/30\n",
            "363/363 [==============================] - 2s 4ms/step - loss: 0.9441 - val_loss: 0.7560\n",
            "Epoch 3/30\n",
            "363/363 [==============================] - 1s 4ms/step - loss: 0.7269 - val_loss: 0.6625\n",
            "Epoch 4/30\n",
            "363/363 [==============================] - 2s 5ms/step - loss: 0.6600 - val_loss: 0.6165\n",
            "Epoch 5/30\n",
            "363/363 [==============================] - 2s 5ms/step - loss: 0.6189 - val_loss: 0.5868\n",
            "Epoch 6/30\n",
            "363/363 [==============================] - 2s 4ms/step - loss: 0.5884 - val_loss: 0.5603\n",
            "Epoch 7/30\n",
            "363/363 [==============================] - 1s 4ms/step - loss: 0.5621 - val_loss: 0.5401\n",
            "Epoch 8/30\n",
            "363/363 [==============================] - 1s 3ms/step - loss: 0.5398 - val_loss: 0.5212\n",
            "Epoch 9/30\n",
            "363/363 [==============================] - 2s 4ms/step - loss: 0.5211 - val_loss: 0.5059\n",
            "Epoch 10/30\n",
            "363/363 [==============================] - 2s 4ms/step - loss: 0.5056 - val_loss: 0.4923\n",
            "Epoch 11/30\n",
            "363/363 [==============================] - 1s 4ms/step - loss: 0.4919 - val_loss: 0.4811\n",
            "Epoch 12/30\n",
            "363/363 [==============================] - 1s 4ms/step - loss: 0.4778 - val_loss: 0.4701\n",
            "Epoch 13/30\n",
            "363/363 [==============================] - 2s 5ms/step - loss: 0.4697 - val_loss: 0.4626\n",
            "Epoch 14/30\n",
            "363/363 [==============================] - 2s 5ms/step - loss: 0.4589 - val_loss: 0.4537\n",
            "Epoch 15/30\n",
            "363/363 [==============================] - 1s 4ms/step - loss: 0.4515 - val_loss: 0.4460\n",
            "Epoch 16/30\n",
            "363/363 [==============================] - 1s 4ms/step - loss: 0.4443 - val_loss: 0.4391\n",
            "Epoch 17/30\n",
            "363/363 [==============================] - 1s 4ms/step - loss: 0.4361 - val_loss: 0.4416\n",
            "Epoch 18/30\n",
            "363/363 [==============================] - 1s 4ms/step - loss: 0.4298 - val_loss: 0.4287\n",
            "Epoch 19/30\n",
            "363/363 [==============================] - 1s 4ms/step - loss: 0.4282 - val_loss: 0.4260\n",
            "Epoch 20/30\n",
            "363/363 [==============================] - 2s 4ms/step - loss: 0.4202 - val_loss: 0.4250\n",
            "Epoch 21/30\n",
            "363/363 [==============================] - 2s 5ms/step - loss: 0.4149 - val_loss: 0.4148\n",
            "Epoch 22/30\n",
            "363/363 [==============================] - 2s 5ms/step - loss: 0.4143 - val_loss: 0.4123\n",
            "Epoch 23/30\n",
            "363/363 [==============================] - 2s 5ms/step - loss: 0.4106 - val_loss: 0.4138\n",
            "Epoch 24/30\n",
            "363/363 [==============================] - 1s 3ms/step - loss: 0.4076 - val_loss: 0.4087\n",
            "Epoch 25/30\n",
            "363/363 [==============================] - 1s 4ms/step - loss: 0.4018 - val_loss: 0.4056\n",
            "Epoch 26/30\n",
            "363/363 [==============================] - 1s 4ms/step - loss: 0.3992 - val_loss: 0.4013\n",
            "Epoch 27/30\n",
            "363/363 [==============================] - 1s 3ms/step - loss: 0.3961 - val_loss: 0.4013\n",
            "Epoch 28/30\n",
            "363/363 [==============================] - 2s 4ms/step - loss: 0.3948 - val_loss: 0.3964\n",
            "Epoch 29/30\n",
            "363/363 [==============================] - 1s 4ms/step - loss: 0.3911 - val_loss: 0.3954\n",
            "Epoch 30/30\n",
            "363/363 [==============================] - 2s 4ms/step - loss: 0.3884 - val_loss: 0.3923\n"
          ]
        }
      ]
    },
    {
      "cell_type": "code",
      "source": [
        "%load_ext tensorboard\n",
        "%tensorboard --logdir=./my_logs --port=6060"
      ],
      "metadata": {
        "colab": {
          "base_uri": "https://localhost:8080/",
          "height": 873
        },
        "id": "2FpRHI5vC-o2",
        "outputId": "b1165f91-dce9-4f0e-effb-40b724472f24"
      },
      "execution_count": 87,
      "outputs": [
        {
          "output_type": "stream",
          "name": "stdout",
          "text": [
            "The tensorboard extension is already loaded. To reload it, use:\n",
            "  %reload_ext tensorboard\n"
          ]
        },
        {
          "output_type": "display_data",
          "data": {
            "text/plain": [
              "Reusing TensorBoard on port 6060 (pid 4622), started 0:18:28 ago. (Use '!kill 4622' to kill it.)"
            ]
          },
          "metadata": {}
        },
        {
          "output_type": "display_data",
          "data": {
            "text/plain": [
              "<IPython.core.display.Javascript object>"
            ],
            "application/javascript": [
              "\n",
              "        (async () => {\n",
              "            const url = new URL(await google.colab.kernel.proxyPort(6060, {'cache': true}));\n",
              "            url.searchParams.set('tensorboardColab', 'true');\n",
              "            const iframe = document.createElement('iframe');\n",
              "            iframe.src = url;\n",
              "            iframe.setAttribute('width', '100%');\n",
              "            iframe.setAttribute('height', '800');\n",
              "            iframe.setAttribute('frameborder', 0);\n",
              "            document.body.appendChild(iframe);\n",
              "        })();\n",
              "    "
            ]
          },
          "metadata": {}
        }
      ]
    },
    {
      "cell_type": "code",
      "source": [
        "%reload_ext tensorboard"
      ],
      "metadata": {
        "id": "ZLAAXyP1EVYs"
      },
      "execution_count": 88,
      "outputs": []
    },
    {
      "cell_type": "code",
      "source": [
        "run_logdir2 = get_run_logdir()\n",
        "run_logdir2"
      ],
      "metadata": {
        "colab": {
          "base_uri": "https://localhost:8080/",
          "height": 35
        },
        "id": "SZsBnW06DOIq",
        "outputId": "0f6bb046-1f4f-41c1-a180-a725e7fff912"
      },
      "execution_count": 89,
      "outputs": [
        {
          "output_type": "execute_result",
          "data": {
            "text/plain": [
              "'./my_logs/run_2024_01_11-22_26_28'"
            ],
            "application/vnd.google.colaboratory.intrinsic+json": {
              "type": "string"
            }
          },
          "metadata": {},
          "execution_count": 89
        }
      ]
    },
    {
      "cell_type": "markdown",
      "source": [
        "Aperfeiçoando os hiperparâmetros das Redes Neurais"
      ],
      "metadata": {
        "id": "twaDPQwqkGvv"
      }
    },
    {
      "cell_type": "code",
      "source": [
        "(X_train_full, y_train_full), (X_test, y_test) = fashion_mnist.load_data()\n",
        "X_train, y_train = X_train_full[:-5000], y_train_full[:-5000]\n",
        "X_valid, y_valid = X_train_full[-5000:], y_train_full[-5000:]"
      ],
      "metadata": {
        "id": "TWqkrOC9qlus"
      },
      "execution_count": 103,
      "outputs": []
    },
    {
      "cell_type": "code",
      "source": [
        "import keras_tuner as kt\n",
        "\n",
        "def build_model(hp):\n",
        "    n_hidden = hp.Int(\"n_hidden\", min_value=0, max_value=8, default=2)\n",
        "    n_neurons = hp.Int(\"n_neurons\", min_value=16, max_value=256)\n",
        "    learning_rate = hp.Float(\"learning_rate\", min_value=1e-4, max_value=1e-2,\n",
        "                             sampling=\"log\")\n",
        "    optimizer = hp.Choice(\"optimizer\", values=[\"sgd\", \"adam\"])\n",
        "    if optimizer == \"sgd\":\n",
        "        optimizer = tf.keras.optimizers.SGD(learning_rate=learning_rate)\n",
        "    else:\n",
        "        optimizer = tf.keras.optimizers.Adam(learning_rate=learning_rate)\n",
        "\n",
        "    model = tf.keras.Sequential()\n",
        "    model.add(tf.keras.layers.Flatten())\n",
        "    for _ in range(n_hidden):\n",
        "        model.add(tf.keras.layers.Dense(n_neurons, activation=\"relu\"))\n",
        "    model.add(tf.keras.layers.Dense(10, activation=\"softmax\"))\n",
        "    model.compile(loss=\"sparse_categorical_crossentropy\", optimizer=optimizer,\n",
        "                  metrics=[\"accuracy\"])\n",
        "    return model"
      ],
      "metadata": {
        "id": "DbqCXUlykua6"
      },
      "execution_count": 104,
      "outputs": []
    },
    {
      "cell_type": "code",
      "source": [
        "random_search_tuner = kt.RandomSearch(\n",
        "    build_model, objective=\"val_accuracy\", max_trials=5, overwrite=True,\n",
        "    directory=\"my_fashion_mnist\", project_name=\"my_rnd_search\", seed=42)\n",
        "random_search_tuner.search(X_train, y_train, epochs=10,\n",
        "                           validation_data=(X_valid, y_valid))"
      ],
      "metadata": {
        "colab": {
          "base_uri": "https://localhost:8080/"
        },
        "id": "aWzKtEGInXy5",
        "outputId": "c4565215-cbcd-4d73-dcde-17b80f78af83"
      },
      "execution_count": 105,
      "outputs": [
        {
          "output_type": "stream",
          "name": "stdout",
          "text": [
            "Trial 5 Complete [00h 01m 20s]\n",
            "val_accuracy: 0.8374000191688538\n",
            "\n",
            "Best val_accuracy So Far: 0.8561999797821045\n",
            "Total elapsed time: 00h 07m 55s\n"
          ]
        }
      ]
    },
    {
      "cell_type": "code",
      "source": [
        "top3_models = random_search_tuner.get_best_models(num_models=3)\n",
        "best_model = top3_models[0]\n",
        "best_model"
      ],
      "metadata": {
        "colab": {
          "base_uri": "https://localhost:8080/"
        },
        "id": "qxB-pP9XncPk",
        "outputId": "2e31dbcc-3c4c-463b-f636-c8ee92f84547"
      },
      "execution_count": 107,
      "outputs": [
        {
          "output_type": "execute_result",
          "data": {
            "text/plain": [
              "<keras.src.engine.sequential.Sequential at 0x7b73bce9ad40>"
            ]
          },
          "metadata": {},
          "execution_count": 107
        }
      ]
    },
    {
      "cell_type": "code",
      "source": [
        "top3_params = random_search_tuner.get_best_hyperparameters(num_trials=3)\n",
        "top3_params[0].values"
      ],
      "metadata": {
        "colab": {
          "base_uri": "https://localhost:8080/"
        },
        "id": "z-gXQQhNnh2x",
        "outputId": "3922c5c7-2cac-457c-f54a-f53aef52e1c2"
      },
      "execution_count": 108,
      "outputs": [
        {
          "output_type": "execute_result",
          "data": {
            "text/plain": [
              "{'n_hidden': 8,\n",
              " 'n_neurons': 37,\n",
              " 'learning_rate': 0.008547485565344062,\n",
              " 'optimizer': 'sgd'}"
            ]
          },
          "metadata": {},
          "execution_count": 108
        }
      ]
    },
    {
      "cell_type": "code",
      "source": [
        "best_trial = random_search_tuner.oracle.get_best_trials(num_trials=1)[0]\n",
        "best_trial.summary()"
      ],
      "metadata": {
        "colab": {
          "base_uri": "https://localhost:8080/"
        },
        "id": "4GKHBQ6VnkEY",
        "outputId": "01e7b7e4-0056-4b2c-eae5-baeb14c401ce"
      },
      "execution_count": 109,
      "outputs": [
        {
          "output_type": "stream",
          "name": "stdout",
          "text": [
            "Trial 3 summary\n",
            "Hyperparameters:\n",
            "n_hidden: 8\n",
            "n_neurons: 37\n",
            "learning_rate: 0.008547485565344062\n",
            "optimizer: sgd\n",
            "Score: 0.8561999797821045\n"
          ]
        }
      ]
    },
    {
      "cell_type": "code",
      "source": [
        "best_trial.metrics.get_last_value(\"val_accuracy\")"
      ],
      "metadata": {
        "colab": {
          "base_uri": "https://localhost:8080/"
        },
        "id": "fSydlXyInmx_",
        "outputId": "a10a6b88-d5fa-4a9f-9207-162dc67bf0cb"
      },
      "execution_count": 110,
      "outputs": [
        {
          "output_type": "execute_result",
          "data": {
            "text/plain": [
              "0.8561999797821045"
            ]
          },
          "metadata": {},
          "execution_count": 110
        }
      ]
    },
    {
      "cell_type": "code",
      "source": [
        "best_model.fit(X_train_full, y_train_full, epochs=10)\n",
        "test_loss, test_accuracy = best_model.evaluate(X_test, y_test)"
      ],
      "metadata": {
        "colab": {
          "base_uri": "https://localhost:8080/"
        },
        "id": "j_1GAbPonqP7",
        "outputId": "503b70e4-bc1a-4b40-8dab-b0edb18c0a1e"
      },
      "execution_count": 111,
      "outputs": [
        {
          "output_type": "stream",
          "name": "stdout",
          "text": [
            "Epoch 1/10\n",
            "1875/1875 [==============================] - 11s 5ms/step - loss: 0.3958 - accuracy: 0.8541\n",
            "Epoch 2/10\n",
            "1875/1875 [==============================] - 8s 4ms/step - loss: 0.3879 - accuracy: 0.8578\n",
            "Epoch 3/10\n",
            "1875/1875 [==============================] - 9s 5ms/step - loss: 0.3808 - accuracy: 0.8603\n",
            "Epoch 4/10\n",
            "1875/1875 [==============================] - 9s 5ms/step - loss: 0.3743 - accuracy: 0.8620\n",
            "Epoch 5/10\n",
            "1875/1875 [==============================] - 8s 4ms/step - loss: 0.3672 - accuracy: 0.8638\n",
            "Epoch 6/10\n",
            "1875/1875 [==============================] - 9s 5ms/step - loss: 0.3640 - accuracy: 0.8658\n",
            "Epoch 7/10\n",
            "1875/1875 [==============================] - 8s 4ms/step - loss: 0.3588 - accuracy: 0.8674\n",
            "Epoch 8/10\n",
            "1875/1875 [==============================] - 9s 5ms/step - loss: 0.3546 - accuracy: 0.8684\n",
            "Epoch 9/10\n",
            "1875/1875 [==============================] - 11s 6ms/step - loss: 0.3498 - accuracy: 0.8706\n",
            "Epoch 10/10\n",
            "1875/1875 [==============================] - 10s 5ms/step - loss: 0.3457 - accuracy: 0.8730\n",
            "313/313 [==============================] - 2s 4ms/step - loss: 0.4218 - accuracy: 0.8500\n"
          ]
        }
      ]
    },
    {
      "cell_type": "markdown",
      "source": [
        "### Exercícios\n",
        "\n",
        "* Q. 10"
      ],
      "metadata": {
        "id": "tkQxbZQSs9fY"
      }
    },
    {
      "cell_type": "code",
      "source": [
        "(X_train_full, y_train_full), (X_test, y_test) = keras.datasets.mnist.load_data()"
      ],
      "metadata": {
        "colab": {
          "base_uri": "https://localhost:8080/"
        },
        "id": "l0zIclhmsrP5",
        "outputId": "1a56d50e-a484-4c5a-ab0c-ef1c5786be9d"
      },
      "execution_count": 112,
      "outputs": [
        {
          "output_type": "stream",
          "name": "stdout",
          "text": [
            "Downloading data from https://storage.googleapis.com/tensorflow/tf-keras-datasets/mnist.npz\n",
            "11490434/11490434 [==============================] - 0s 0us/step\n"
          ]
        }
      ]
    },
    {
      "cell_type": "code",
      "source": [
        "X_valid, X_train = X_train_full[:5000] / 255., X_train_full[5000:] / 255.\n",
        "y_valid, y_train = y_train_full[:5000], y_train_full[5000:]\n",
        "X_test = X_test / 255."
      ],
      "metadata": {
        "id": "KQddbqXLtQef"
      },
      "execution_count": 113,
      "outputs": []
    },
    {
      "cell_type": "code",
      "source": [
        "plt.imshow(X_train[0], cmap=\"binary\")\n",
        "plt.axis('off')\n",
        "plt.show()"
      ],
      "metadata": {
        "colab": {
          "base_uri": "https://localhost:8080/",
          "height": 406
        },
        "id": "-3z6vTentZMH",
        "outputId": "2aa1be81-7555-48cb-fe44-ca1a32f23a42"
      },
      "execution_count": 114,
      "outputs": [
        {
          "output_type": "display_data",
          "data": {
            "text/plain": [
              "<Figure size 640x480 with 1 Axes>"
            ],
            "image/png": "[encoded data removed]"
          },
          "metadata": {}
        }
      ]
    },
    {
      "cell_type": "code",
      "source": [
        "n_rows = 4\n",
        "n_cols = 10\n",
        "plt.figure(figsize=(n_cols * 1.2, n_rows * 1.2))\n",
        "for row in range(n_rows):\n",
        "    for col in range(n_cols):\n",
        "        index = n_cols * row + col\n",
        "        plt.subplot(n_rows, n_cols, index + 1)\n",
        "        plt.imshow(X_train[index], cmap=\"binary\", interpolation=\"nearest\")\n",
        "        plt.axis('off')\n",
        "        plt.title(y_train[index])\n",
        "plt.subplots_adjust(wspace=0.2, hspace=0.5)\n",
        "plt.show()"
      ],
      "metadata": {
        "colab": {
          "base_uri": "https://localhost:8080/",
          "height": 428
        },
        "id": "RsPF0MAata9W",
        "outputId": "d411bfca-67c8-4798-db27-552607189944"
      },
      "execution_count": 115,
      "outputs": [
        {
          "output_type": "display_data",
          "data": {
            "text/plain": [
              "<Figure size 1200x480 with 40 Axes>"
            ],
            "image/png": "[encoded data removed]"
          },
          "metadata": {}
        }
      ]
    },
    {
      "cell_type": "code",
      "source": [
        "K = tf.keras.backend\n",
        "\n",
        "class ExponentialLearningRate(tf.keras.callbacks.Callback):\n",
        "    def __init__(self, factor):\n",
        "        self.factor = factor\n",
        "        self.rates = []\n",
        "        self.losses = []\n",
        "    def on_batch_end(self, batch, logs):\n",
        "        self.rates.append(K.get_value(self.model.optimizer.learning_rate))\n",
        "        self.losses.append(logs[\"loss\"])\n",
        "        K.set_value(self.model.optimizer.learning_rate, self.model.optimizer.learning_rate * self.factor)"
      ],
      "metadata": {
        "id": "8s6nL7KlteNo"
      },
      "execution_count": 116,
      "outputs": []
    },
    {
      "cell_type": "code",
      "source": [
        "model = tf.keras.Sequential([\n",
        "    tf.keras.layers.Flatten(input_shape=[28, 28]),\n",
        "    tf.keras.layers.Dense(300, activation=\"relu\"),\n",
        "    tf.keras.layers.Dense(100, activation=\"relu\"),\n",
        "    tf.keras.layers.Dense(10, activation=\"softmax\")\n",
        "])"
      ],
      "metadata": {
        "id": "k69oRD44tqs4"
      },
      "execution_count": 117,
      "outputs": []
    },
    {
      "cell_type": "code",
      "source": [
        "optimizer = tf.keras.optimizers.SGD(learning_rate=1e-3)\n",
        "model.compile(loss=\"sparse_categorical_crossentropy\", optimizer=optimizer,\n",
        "              metrics=[\"accuracy\"])\n",
        "expon_lr = ExponentialLearningRate(factor=1.005)"
      ],
      "metadata": {
        "id": "NYJxaTu9ttnr"
      },
      "execution_count": 118,
      "outputs": []
    },
    {
      "cell_type": "code",
      "source": [
        "history = model.fit(X_train, y_train, epochs=1,\n",
        "                    validation_data=(X_valid, y_valid),\n",
        "                    callbacks=[expon_lr])"
      ],
      "metadata": {
        "colab": {
          "base_uri": "https://localhost:8080/"
        },
        "id": "7Wfdb7sWtv7p",
        "outputId": "6f67b191-8478-4573-8009-f5bd702e7a77"
      },
      "execution_count": 119,
      "outputs": [
        {
          "output_type": "stream",
          "name": "stdout",
          "text": [
            "1719/1719 [==============================] - 9s 5ms/step - loss: 1.3250 - accuracy: 0.6126 - val_loss: 2.3427 - val_accuracy: 0.0868\n"
          ]
        }
      ]
    },
    {
      "cell_type": "code",
      "source": [
        "plt.plot(expon_lr.rates, expon_lr.losses)\n",
        "plt.gca().set_xscale('log')\n",
        "plt.hlines(min(expon_lr.losses), min(expon_lr.rates), max(expon_lr.rates))\n",
        "plt.axis([min(expon_lr.rates), max(expon_lr.rates), 0, expon_lr.losses[0]])\n",
        "plt.grid()\n",
        "plt.xlabel(\"Learning rate\")\n",
        "plt.ylabel(\"Loss\")"
      ],
      "metadata": {
        "colab": {
          "base_uri": "https://localhost:8080/",
          "height": 471
        },
        "id": "F7qsPZt_txue",
        "outputId": "bf0e7e8e-c965-4cf7-960f-879d8fcd6d35"
      },
      "execution_count": 120,
      "outputs": [
        {
          "output_type": "execute_result",
          "data": {
            "text/plain": [
              "Text(0, 0.5, 'Loss')"
            ]
          },
          "metadata": {},
          "execution_count": 120
        },
        {
          "output_type": "display_data",
          "data": {
            "text/plain": [
              "<Figure size 640x480 with 1 Axes>"
            ],
            "image/png": "[encoded data removed]"
          },
          "metadata": {}
        }
      ]
    },
    {
      "cell_type": "code",
      "source": [
        "model = tf.keras.Sequential([\n",
        "    tf.keras.layers.Flatten(input_shape=[28, 28]),\n",
        "    tf.keras.layers.Dense(300, activation=\"relu\"),\n",
        "    tf.keras.layers.Dense(100, activation=\"relu\"),\n",
        "    tf.keras.layers.Dense(10, activation=\"softmax\")\n",
        "])"
      ],
      "metadata": {
        "id": "hOxVwP2Ut106"
      },
      "execution_count": 121,
      "outputs": []
    },
    {
      "cell_type": "code",
      "source": [
        "optimizer = tf.keras.optimizers.SGD(learning_rate=3e-1)\n",
        "model.compile(loss=\"sparse_categorical_crossentropy\", optimizer=optimizer,\n",
        "              metrics=[\"accuracy\"])"
      ],
      "metadata": {
        "id": "0WII-ke_t_yA"
      },
      "execution_count": 122,
      "outputs": []
    },
    {
      "cell_type": "code",
      "source": [
        "from pathlib import Path\n",
        "\n",
        "run_index = 1\n",
        "run_logdir = Path() / \"my_mnist_logs\" / \"run_{:03d}\".format(run_index)\n",
        "run_logdir"
      ],
      "metadata": {
        "colab": {
          "base_uri": "https://localhost:8080/"
        },
        "id": "XpplAJWKuBTQ",
        "outputId": "58b4f0c2-436c-49e3-9c64-892a5ec08bef"
      },
      "execution_count": 124,
      "outputs": [
        {
          "output_type": "execute_result",
          "data": {
            "text/plain": [
              "PosixPath('my_mnist_logs/run_001')"
            ]
          },
          "metadata": {},
          "execution_count": 124
        }
      ]
    },
    {
      "cell_type": "code",
      "source": [
        "early_stopping_cb = tf.keras.callbacks.EarlyStopping(patience=20)\n",
        "checkpoint_cb = tf.keras.callbacks.ModelCheckpoint(\"my_mnist_model\", save_best_only=True)\n",
        "tensorboard_cb = tf.keras.callbacks.TensorBoard(run_logdir)\n",
        "\n",
        "history = model.fit(X_train, y_train, epochs=100,\n",
        "                    validation_data=(X_valid, y_valid),\n",
        "                    callbacks=[checkpoint_cb, early_stopping_cb, tensorboard_cb])"
      ],
      "metadata": {
        "colab": {
          "base_uri": "https://localhost:8080/"
        },
        "id": "-__TRZv3uDuK",
        "outputId": "72334134-a1b5-4a5e-d2c6-552cf6f0be62"
      },
      "execution_count": 125,
      "outputs": [
        {
          "output_type": "stream",
          "name": "stdout",
          "text": [
            "Epoch 1/100\n",
            "1719/1719 [==============================] - 12s 6ms/step - loss: 0.2259 - accuracy: 0.9302 - val_loss: 0.0923 - val_accuracy: 0.9728\n",
            "Epoch 2/100\n",
            "1719/1719 [==============================] - 7s 4ms/step - loss: 0.0952 - accuracy: 0.9703 - val_loss: 0.0824 - val_accuracy: 0.9760\n",
            "Epoch 3/100\n",
            "1719/1719 [==============================] - 7s 4ms/step - loss: 0.0663 - accuracy: 0.9788 - val_loss: 0.1015 - val_accuracy: 0.9718\n",
            "Epoch 4/100\n",
            "1719/1719 [==============================] - 7s 4ms/step - loss: 0.0483 - accuracy: 0.9844 - val_loss: 0.0804 - val_accuracy: 0.9784\n",
            "Epoch 5/100\n",
            "1719/1719 [==============================] - 7s 4ms/step - loss: 0.0368 - accuracy: 0.9884 - val_loss: 0.1678 - val_accuracy: 0.9582\n",
            "Epoch 6/100\n",
            "1719/1719 [==============================] - 8s 5ms/step - loss: 0.0302 - accuracy: 0.9899 - val_loss: 0.0735 - val_accuracy: 0.9814\n",
            "Epoch 7/100\n",
            "1719/1719 [==============================] - 6s 4ms/step - loss: 0.0231 - accuracy: 0.9924 - val_loss: 0.0876 - val_accuracy: 0.9806\n",
            "Epoch 8/100\n",
            "1719/1719 [==============================] - 7s 4ms/step - loss: 0.0189 - accuracy: 0.9939 - val_loss: 0.0871 - val_accuracy: 0.9784\n",
            "Epoch 9/100\n",
            "1719/1719 [==============================] - 6s 4ms/step - loss: 0.0164 - accuracy: 0.9949 - val_loss: 0.0880 - val_accuracy: 0.9814\n",
            "Epoch 10/100\n",
            "1719/1719 [==============================] - 9s 5ms/step - loss: 0.0095 - accuracy: 0.9968 - val_loss: 0.0777 - val_accuracy: 0.9852\n",
            "Epoch 11/100\n",
            "1719/1719 [==============================] - 7s 4ms/step - loss: 0.0082 - accuracy: 0.9970 - val_loss: 0.0879 - val_accuracy: 0.9826\n",
            "Epoch 12/100\n",
            "1719/1719 [==============================] - 7s 4ms/step - loss: 0.0075 - accuracy: 0.9978 - val_loss: 0.1014 - val_accuracy: 0.9786\n",
            "Epoch 13/100\n",
            "1719/1719 [==============================] - 6s 4ms/step - loss: 0.0086 - accuracy: 0.9969 - val_loss: 0.0943 - val_accuracy: 0.9828\n",
            "Epoch 14/100\n",
            "1719/1719 [==============================] - 7s 4ms/step - loss: 0.0059 - accuracy: 0.9983 - val_loss: 0.0930 - val_accuracy: 0.9828\n",
            "Epoch 15/100\n",
            "1719/1719 [==============================] - 6s 4ms/step - loss: 0.0054 - accuracy: 0.9985 - val_loss: 0.1028 - val_accuracy: 0.9810\n",
            "Epoch 16/100\n",
            "1719/1719 [==============================] - 7s 4ms/step - loss: 0.0084 - accuracy: 0.9971 - val_loss: 0.1119 - val_accuracy: 0.9804\n",
            "Epoch 17/100\n",
            "1719/1719 [==============================] - 6s 4ms/step - loss: 0.0099 - accuracy: 0.9967 - val_loss: 0.1049 - val_accuracy: 0.9826\n",
            "Epoch 18/100\n",
            "1719/1719 [==============================] - 7s 4ms/step - loss: 0.0129 - accuracy: 0.9962 - val_loss: 0.1170 - val_accuracy: 0.9780\n",
            "Epoch 19/100\n",
            "1719/1719 [==============================] - 6s 4ms/step - loss: 0.0065 - accuracy: 0.9980 - val_loss: 0.0974 - val_accuracy: 0.9832\n",
            "Epoch 20/100\n",
            "1719/1719 [==============================] - 7s 4ms/step - loss: 0.0091 - accuracy: 0.9970 - val_loss: 0.1232 - val_accuracy: 0.9796\n",
            "Epoch 21/100\n",
            "1719/1719 [==============================] - 6s 4ms/step - loss: 0.0081 - accuracy: 0.9976 - val_loss: 0.1024 - val_accuracy: 0.9812\n",
            "Epoch 22/100\n",
            "1719/1719 [==============================] - 7s 4ms/step - loss: 0.0035 - accuracy: 0.9990 - val_loss: 0.1038 - val_accuracy: 0.9830\n",
            "Epoch 23/100\n",
            "1719/1719 [==============================] - 6s 4ms/step - loss: 0.0028 - accuracy: 0.9991 - val_loss: 0.1052 - val_accuracy: 0.9824\n",
            "Epoch 24/100\n",
            "1719/1719 [==============================] - 7s 4ms/step - loss: 9.1270e-04 - accuracy: 0.9997 - val_loss: 0.1003 - val_accuracy: 0.9830\n",
            "Epoch 25/100\n",
            "1719/1719 [==============================] - 6s 3ms/step - loss: 2.0419e-04 - accuracy: 1.0000 - val_loss: 0.1028 - val_accuracy: 0.9842\n",
            "Epoch 26/100\n",
            "1719/1719 [==============================] - 8s 5ms/step - loss: 6.3738e-05 - accuracy: 1.0000 - val_loss: 0.1022 - val_accuracy: 0.9842\n"
          ]
        }
      ]
    },
    {
      "cell_type": "code",
      "source": [
        "model = tf.keras.models.load_model(\"my_mnist_model\")\n",
        "model.evaluate(X_test, y_test)"
      ],
      "metadata": {
        "colab": {
          "base_uri": "https://localhost:8080/"
        },
        "id": "kMIhDt_suV8P",
        "outputId": "4205c406-8505-4474-e326-a2b9d4527081"
      },
      "execution_count": 126,
      "outputs": [
        {
          "output_type": "stream",
          "name": "stdout",
          "text": [
            "313/313 [==============================] - 1s 2ms/step - loss: 0.0833 - accuracy: 0.9770\n"
          ]
        },
        {
          "output_type": "execute_result",
          "data": {
            "text/plain": [
              "[0.08329105377197266, 0.9769999980926514]"
            ]
          },
          "metadata": {},
          "execution_count": 126
        }
      ]
    },
    {
      "cell_type": "code",
      "source": [
        "%tensorboard --logdir=./my_mnist_logs"
      ],
      "metadata": {
        "colab": {
          "base_uri": "https://localhost:8080/",
          "height": 821
        },
        "id": "XFlu8cq-vY-2",
        "outputId": "0137c99d-4c41-4291-ce8f-245d00da8197"
      },
      "execution_count": 127,
      "outputs": [
        {
          "output_type": "display_data",
          "data": {
            "text/plain": [
              "<IPython.core.display.Javascript object>"
            ],
            "application/javascript": [
              "\n",
              "        (async () => {\n",
              "            const url = new URL(await google.colab.kernel.proxyPort(6006, {'cache': true}));\n",
              "            url.searchParams.set('tensorboardColab', 'true');\n",
              "            const iframe = document.createElement('iframe');\n",
              "            iframe.src = url;\n",
              "            iframe.setAttribute('width', '100%');\n",
              "            iframe.setAttribute('height', '800');\n",
              "            iframe.setAttribute('frameborder', 0);\n",
              "            document.body.appendChild(iframe);\n",
              "        })();\n",
              "    "
            ]
          },
          "metadata": {}
        }
      ]
    }
  ]
}